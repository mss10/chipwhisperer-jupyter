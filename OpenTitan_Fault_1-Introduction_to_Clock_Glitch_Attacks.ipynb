{
 "cells": [
  {
   "cell_type": "markdown",
   "metadata": {},
   "source": [
    "# Introduction to Clock Glitch Attacks for OpenTitan\n",
    "\n",
    "Supported setup:\n",
    "\n",
    "SCOPES:\n",
    "* OPENADC\n",
    "\n",
    "PLATFORMS:\n",
    "* OpenTitan"
   ]
  },
  {
   "cell_type": "markdown",
   "metadata": {},
   "source": [
    "This advanced tutorial will introduce clock glitch attacks for the OpenTitan platform using the ChipWhisperer system, demonstrating some of its glitching features, as well as the importance of glitch attacks. This will be built on in later tutorials to attack different types of firmware."
   ]
  },
  {
   "cell_type": "code",
   "execution_count": null,
   "metadata": {
    "code_folding": []
   },
   "outputs": [],
   "source": [
    "# Definitions\n",
    "SCOPETYPE = 'OPENADC'\n",
    "PLATFORM = 'OpenTitan'\n",
    "VERSION = 'HARDWARE'\n",
    "\n",
    "# Clock Frequency\n",
    "FREQUENCY = 4e6 # system clock for OpenTitan "
   ]
  },
  {
   "cell_type": "markdown",
   "metadata": {},
   "source": [
    "# Import dependencies"
   ]
  },
  {
   "cell_type": "code",
   "execution_count": null,
   "metadata": {
    "code_folding": []
   },
   "outputs": [],
   "source": [
    "# import dependencies\n",
    "import chipwhisperer as cw\n",
    "from tqdm import tnrange\n",
    "import numpy as np\n",
    "import time\n",
    "import sys\n",
    "import os\n",
    "\n",
    "# Serial communication\n",
    "import serial\n",
    "encoding = 'utf-8'\n",
    "# Plotting\n",
    "import matplotlib.pyplot as plt\n",
    "\n",
    "# Subprocess\n",
    "import subprocess\n",
    "from subprocess import Popen, PIPE, check_output\n",
    "\n",
    "from pathlib import Path\n",
    "\n",
    "# import color definition\n",
    "from OpenTitan.Definitions.mColors import mColors"
   ]
  },
  {
   "cell_type": "markdown",
   "metadata": {
    "heading_collapsed": true
   },
   "source": [
    "# Background on Clock Glitching"
   ]
  },
  {
   "cell_type": "markdown",
   "metadata": {
    "hidden": true
   },
   "source": [
    "Digital hardware devices almost always expect some form of reliable clock. We can manipulate the clock being presented to the device to cause unintended behaviour. We'll be concentrating on microcontrollers here, however other digital devices (e.g. hardware encryption accelerators) can also have faults injected using this technique.\n",
    "\n",
    "Consider a microcontroller first. The following figure is an excerpt the Atmel AVR ATMega328P datasheet:\n",
    "\n",
    "![A2_1](https://wiki.newae.com/images/2/20/Mcu-unglitched.png)\n",
    "\n",
    "Rather than loading each instruction from FLASH and performing the entire execution, the system has a pipeline to speed up the execution process. This means that an instruction is being decoded while the next one is being retrieved, as the following diagram shows:\n",
    "\n",
    "![A2_2](https://wiki.newae.com/images/a/a5/Clock-normal.png)\n",
    "\n",
    "But if we modify the clock, we could have a situation where the system doesn't have enough time to actually perform an instruction. Consider the following, where Execute #1 is effectively skipped. Before the system has time to actually execute it another clock edge comes, causing the microcontroller to start execution of the next instruction:\n",
    "\n",
    "![A2_3](https://wiki.newae.com/images/1/1e/Clock-glitched.png)\n",
    "\n",
    "This causes the microcontroller to skip an instruction. Such attacks can be immensely powerful in practice. Consider for example the following code from `linux-util-2.24`:\n",
    "\n",
    "```C\n",
    "/*\n",
    " *   auth.c -- PAM authorization code, common between chsh and chfn\n",
    " *   (c) 2012 by Cody Maloney <cmaloney@theoreticalchaos.com>\n",
    " *\n",
    " *   this program is free software.  you can redistribute it and\n",
    " *   modify it under the terms of the gnu general public license.\n",
    " *   there is no warranty.\n",
    " *\n",
    " */\n",
    "\n",
    "#include \"auth.h\"\n",
    "#include \"pamfail.h\"\n",
    "\n",
    "int auth_pam(const char *service_name, uid_t uid, const char *username)\n",
    "{\n",
    "    if (uid != 0) {\n",
    "        pam_handle_t *pamh = NULL;\n",
    "        struct pam_conv conv = { misc_conv, NULL };\n",
    "        int retcode;\n",
    "\n",
    "        retcode = pam_start(service_name, username, &conv, &pamh);\n",
    "        if (pam_fail_check(pamh, retcode))\n",
    "            return FALSE;\n",
    "\n",
    "        retcode = pam_authenticate(pamh, 0);\n",
    "        if (pam_fail_check(pamh, retcode))\n",
    "            return FALSE;\n",
    "\n",
    "        retcode = pam_acct_mgmt(pamh, 0);\n",
    "        if (retcode == PAM_NEW_AUTHTOK_REQD)\n",
    "            retcode =\n",
    "                pam_chauthtok(pamh, PAM_CHANGE_EXPIRED_AUTHTOK);\n",
    "        if (pam_fail_check(pamh, retcode))\n",
    "            return FALSE;\n",
    "\n",
    "        retcode = pam_setcred(pamh, 0);\n",
    "        if (pam_fail_check(pamh, retcode))\n",
    "            return FALSE;\n",
    "\n",
    "        pam_end(pamh, 0);\n",
    "        /* no need to establish a session; this isn't a\n",
    "         * session-oriented activity...  */\n",
    "    }\n",
    "    return TRUE;\n",
    "}\n",
    "```\n",
    "\n",
    "This is the login code for the Linux OS. Note that if we could skip the check of `if (uid != 0)` and simply branch to the end, we could avoid having to enter a password. This is the power of glitch attacks - not that we are breaking encryption, but simply bypassing the entire authentication module!"
   ]
  },
  {
   "cell_type": "markdown",
   "metadata": {
    "hidden": true
   },
   "source": [
    "## Glitch Hardware"
   ]
  },
  {
   "cell_type": "markdown",
   "metadata": {
    "hidden": true
   },
   "source": [
    "The ChipWhisperer Glitch system uses the same synchronous methodology as its Side Channel Analysis (SCA) capture. A system clock (which can come from either the ChipWhisperer or the Device Under Test (DUT)) is used to generate the glitches. These glitches are then inserted back into the clock, although it's possible to use the glitches alone for other purposes (i.e. for voltage glitching, EM glitching).\n",
    "\n",
    "The generation of glitches is done with two variable phase shift modules, configured as follows:\n",
    "\n",
    "![A2_4](https://wiki.newae.com/images/6/65/Glitchgen-phaseshift.png)\n",
    "\n",
    "The enable line is used to determine when glitches are inserted. Glitches can be inserted continuously (useful for development) or triggered by some event. The following figure shows how the glitch can be muxd to output to the Device Under Test (DUT).\n",
    "\n",
    "![A2_5](https://wiki.newae.com/images/c/c0/Glitchgen-mux.png)"
   ]
  },
  {
   "cell_type": "markdown",
   "metadata": {
    "hidden": true
   },
   "source": [
    "### Hardware Support"
   ]
  },
  {
   "cell_type": "markdown",
   "metadata": {
    "hidden": true
   },
   "source": [
    "The phase shift blocks use the Digital Clock Manager (DCM) blocks within the FPGA. These blocks have limited support for run-time configuration of parameters such as phase delay and frequency generation, and for maximum performance the configuration must be fixed at design time. The Xilinx-provided run-time adjustment can shift the phase only by about +/- 5nS in 30pS increments (exact values vary with operating conditions).\n",
    "\n",
    "For most operating conditions this is insufficient - if attacking a target at 7.37MHz the clock cycle would have a period of 136nS. In order to provide a larger adjustment range, an advanced FPGA feature called Partial Reconfiguration (PR) is used. The PR system requires special partial bitstreams which contain modifications to the FPGA bitstream. These are stored as two files inside a \"firmware\" zip which contains both the FPGA bitstream along with a file called `glitchwidth.p` and a file called `glitchoffset.p`. If a lone bitstream is being loaded into the FPGA (i.e. not from the zip-file), the partial reconfiguration system is disabled, as loading incorrect partial reconfiguration files could damage the FPGA. This damage is mostly theoretical, more likely the FPGA will fail to function correctly.\n",
    "\n",
    "If in the course of following this tutorial you find the FPGA appears to stop responding (i.e. certain features no longer work correctly), it could be the partial reconfiguration data is incorrect.\n",
    "\n",
    "We'll look at how to interface with these features later in the tutorial."
   ]
  },
  {
   "cell_type": "markdown",
   "metadata": {
    "heading_collapsed": true,
    "hidden": true
   },
   "source": [
    "## Setting Up Firmware"
   ]
  },
  {
   "cell_type": "markdown",
   "metadata": {
    "hidden": true
   },
   "source": [
    "As with previous tutorials, we'll start by creating a new project from base firmware. This tutorial doesn't use any crypto, so we'll leave the latter option as `NONE`. This time, we'll be using `glitch-simple`:"
   ]
  },
  {
   "cell_type": "markdown",
   "metadata": {
    "hidden": true
   },
   "source": [
    "Now navigate to the `glitch-simple-lab1` folder and open `glitchsimple.c` in a code editor. Scroll down until you find the `glitch1()` function:\n",
    "\n",
    "```C\n",
    "void glitch1(void)\n",
    "{\n",
    "    led_ok(1);\n",
    "    led_error(0);\n",
    "    \n",
    "    //Some fake variable\n",
    "    volatile uint8_t a = 0;\n",
    "    \n",
    "    putch('A');\n",
    "    \n",
    "    //External trigger logic\n",
    "    trigger_high();\n",
    "    trigger_low();\n",
    "    \n",
    "    //Should be an infinite loop\n",
    "    while(a != 2){\n",
    "    ;\n",
    "    }    \n",
    "    \n",
    "    led_error(1);\n",
    "    led_error(1);\n",
    "    led_error(1);\n",
    "    led_error(1);\n",
    "    led_error(1);\n",
    "    led_error(1);\n",
    "    led_error(1);\n",
    "    led_error(1);\n",
    "    led_error(1);\n",
    "    \n",
    "    uart_puts(\"1234\");\n",
    "    \n",
    "    led_error(1);\n",
    "    led_error(1);\n",
    "    led_error(1);\n",
    "    led_error(1);\n",
    "    led_error(1);\n",
    "    led_error(1);\n",
    "    led_error(1);\n",
    "    led_error(1);\n",
    "\n",
    "    //Several loops in order to try and prevent restarting\n",
    "    while(1){\n",
    "    ;\n",
    "    }\n",
    "    while(1){\n",
    "    ;\n",
    "    }\n",
    "    while(1){\n",
    "    ;\n",
    "    }\n",
    "    while(1){\n",
    "    ;\n",
    "    }\n",
    "    while(1){\n",
    "    ;\n",
    "    }    \n",
    "}\n",
    "\n",
    "```\n",
    "\n",
    "We can see here that the DUT sends back an `'A'`, toggles the trigger pin, then enters an infinite loop. After the infinite loop, the device sends back `\"1234\"`. On boards that support it, the firmware will also activate a green \"OK\" LED upon entering the function and a red \"ERROR\" LED when a successful glitch occurs. Our objective will be to glitch past the infinite loop.\n",
    "\n",
    "Before you build, navigate to `main()`. You'll see some C preprocessor directives that will allow us to switch between the different functions without having to edit the `glitchsimple.c` file. We'll do this via the `FUNC_SEL` makefile variable like so:"
   ]
  },
  {
   "cell_type": "code",
   "execution_count": null,
   "metadata": {
    "hidden": true
   },
   "outputs": [],
   "source": [
    "%%bash -s \"$PLATFORM\" \"$CRYPTO_TARGET\"\n",
    "cd ../hardware/victims/firmware/glitch-simple\n",
    "make PLATFORM=$1 CRYPTO_TARGET=$2 FUNC_SEL=GLITCH1"
   ]
  },
  {
   "cell_type": "markdown",
   "metadata": {},
   "source": [
    "# Attack Script"
   ]
  },
  {
   "cell_type": "markdown",
   "metadata": {},
   "source": [
    "### Setup"
   ]
  },
  {
   "cell_type": "markdown",
   "metadata": {},
   "source": [
    "Now that we've studied the code and have an objective, we can start looking at how to control the glitch module via Python. We'll start by connecting to and setting up the ChipWhisperer, then programming it. As usual, make sure you modify `fw_path` with the path to the file you built in the last step."
   ]
  },
  {
   "cell_type": "code",
   "execution_count": null,
   "metadata": {
    "scrolled": false
   },
   "outputs": [],
   "source": [
    "if PLATFORM == \"OpenTitan\":\n",
    "    # define project directory\n",
    "    HOME = str(Path.home())\n",
    "    OPENTITAN_DIR = HOME + '/opentitan/'\n",
    "else:\n",
    "    print(\"Please start the tutorial from beginning...\\n\")"
   ]
  },
  {
   "cell_type": "markdown",
   "metadata": {},
   "source": [
    "Let us define some functions to build the project and to flash software to the target:"
   ]
  },
  {
   "cell_type": "code",
   "execution_count": null,
   "metadata": {
    "code_folding": [
     0,
     18
    ]
   },
   "outputs": [],
   "source": [
    "def build_software():\n",
    "    CMD = \"ninja -C build-out sw/device/examples/glitch-simple/glitchsimple_export_fpga_artys7\"\n",
    "    try:\n",
    "        p = subprocess.check_output(CMD, cwd=OPENTITAN_DIR, stderr=subprocess.STDOUT, shell=True, timeout=30)\n",
    "        return 0\n",
    "    except subprocess.TimeoutExpired as result:                                                                                                   \n",
    "        print(mColors.CBLACK + \"\"\"build process timed out. Retry it.\"\"\" + mColors.ENDC)\n",
    "        return 1\n",
    "    except subprocess.CalledProcessError as e:\n",
    "        CMD = \"./meson_init.sh -f; ninja -C build-out sw/host/spiflash/spiflash_export;\\\n",
    "        ninja -C build-out sw/device/examples/glitch-simple/glitchsimple_export_fpga_artys7;\"\n",
    "        try:\n",
    "            p = subprocess.check_output(CMD, cwd=OPENTITAN_DIR, stderr=subprocess.STDOUT, shell=True, timeout=30)\n",
    "            return 0\n",
    "        except subprocess.CalledProcessError as e:\n",
    "            print(mColors.CBLACK + \"command '{}' \\nreturn with error (code {}):\\n {}\".format(e.cmd, e.returncode, e.output) + mColors.ENDC)\n",
    "            return 1\n",
    "\n",
    "def flash_software():\n",
    "    CMD = \"build-bin/sw/host/spiflash/spiflash --input build-bin/sw/device/examples/glitch-simple/glitchsimple_fpga_artys7.bin\"\n",
    "    try:\n",
    "        p = subprocess.check_output(CMD, cwd=OPENTITAN_DIR, stderr=subprocess.STDOUT, shell=True, timeout=30)\n",
    "        return 0\n",
    "    except subprocess.TimeoutExpired as result:                                                                                                   \n",
    "        print(mColors.CBLACK + \"\"\"flash process timed out. Retry it.\"\"\" + mColors.ENDC)\n",
    "        return 1\n",
    "    except subprocess.CalledProcessError as e:\n",
    "        print(mColors.CBLACK + \"command '{}' \\nreturn with error (code {}):\\n {}\".format(e.cmd, e.returncode, e.output) + mColors.ENDC)\n",
    "        if (\"Unable to open FTDI SPI interface.\") in str(e.output):\n",
    "            print(mColors.CBLACK + mColors.CORG + \"Please try to replug the FTDI interface\" + mColors.ENDC)\n",
    "        return 1"
   ]
  },
  {
   "cell_type": "code",
   "execution_count": null,
   "metadata": {},
   "outputs": [],
   "source": [
    "# run build_software once\n",
    "err = build_software()\n",
    "if err:\n",
    "    print(\"Please check your ninja build process.\")"
   ]
  },
  {
   "cell_type": "code",
   "execution_count": null,
   "metadata": {},
   "outputs": [],
   "source": [
    "# Connect to scope\n",
    "%run \"Setup_Scripts/Setup_OpenTitan.ipynb\"\n",
    "\n",
    "# Define outging clock frequency for OpenTitan\n",
    "scope.clock.clkgen_freq = FREQUENCY\n",
    "print(\"CLKGEN target frequency = \" + str(FREQUENCY/1e6) + \" MHz\")\n",
    "reset_target(scope)\n",
    "time.sleep(0.025)\n",
    "target.flush()"
   ]
  },
  {
   "cell_type": "code",
   "execution_count": null,
   "metadata": {
    "code_folding": [],
    "scrolled": true
   },
   "outputs": [],
   "source": [
    "# Connect to serial\n",
    "reset_target(scope)\n",
    "connectSerial(target, 115200) # UART speed\n",
    "time.sleep(0.01)"
   ]
  },
  {
   "cell_type": "code",
   "execution_count": null,
   "metadata": {},
   "outputs": [],
   "source": [
    "# Flash SW\n",
    "err = flash_software()\n",
    "if err:\n",
    "    print(mColors.CORG + \"An error occured during flash process, verify bitstream is programmed and replug FTDI interface\" + mColors.ENDC)"
   ]
  },
  {
   "cell_type": "code",
   "execution_count": null,
   "metadata": {
    "code_folding": [],
    "scrolled": true
   },
   "outputs": [],
   "source": [
    "# Example, how to read from UART\n",
    "result = \"\"\n",
    "ret = bytearray()\n",
    "reset_target(scope)\n",
    "target.flush()\n",
    "time.sleep(0.01)\n",
    "err = flash_software()\n",
    "if err:\n",
    "    print(mColors.CORG + \"An error occured during flash process, verify bitstream is programmed and replug FTDI interface\" + mColors.ENDC)\n",
    "\n",
    "\n",
    "time.sleep(0.5)\n",
    "target.flush()\n",
    "target.flush()\n",
    "num_char = target.in_waiting()\n",
    "while num_char > 0:\n",
    "    ret += target.read() # num_char, 10\n",
    "    time.sleep(0.1)\n",
    "    num_char = target.in_waiting()\n",
    "\n",
    "if ret:\n",
    "    try:\n",
    "        result = str(ret, encoding, errors='ignore')\n",
    "        #result = result.split(\"**\", 1)\n",
    "        #result = result[1]\n",
    "        print(result)\n",
    "        if 'A' in repr(result):\n",
    "            print(mColors.CORG + \"success!\\n\" + mColors.ENDC)\n",
    "    except:\n",
    "        print(\"encoding failed\")"
   ]
  },
  {
   "cell_type": "markdown",
   "metadata": {},
   "source": [
    "Since the firmware enters an infinite loop, we'll need to reset the target between glitch attempts. `\"Helper_Scripts/Setup_OpenTitan.ipynb\"` defines a reset function `reset_target(scope)` that we'll use here. Now let's make sure the firmware works as we expect. We should get `\"hello\\nA\"` back after resetting the target."
   ]
  },
  {
   "cell_type": "markdown",
   "metadata": {
    "heading_collapsed": true
   },
   "source": [
    "### Glitch Module"
   ]
  },
  {
   "cell_type": "markdown",
   "metadata": {
    "hidden": true
   },
   "source": [
    "All the settings/methods for the glitch module can be accessed under `scope.glitch`. As usual, documentation for the settings and methods can be accessed on [ReadtheDocs](https://chipwhisperer.readthedocs.io/en/latest/api.html) or with the python `help` command:"
   ]
  },
  {
   "cell_type": "code",
   "execution_count": null,
   "metadata": {
    "code_folding": [],
    "hidden": true,
    "scrolled": false
   },
   "outputs": [],
   "source": [
    "# glitch modeul\n",
    "help(scope.glitch)"
   ]
  },
  {
   "cell_type": "markdown",
   "metadata": {
    "hidden": true
   },
   "source": [
    "Some of the important settings we'll want to look at here are:\n",
    "\n",
    "* clk_src\n",
    "> The clock signal that the glitch DCM is using as input. Can be set to \"target\" or \"clkgen\" In this case, we'll be providing the clock to the target, so we'll want this set to \"clkgen\"\n",
    "* offset\n",
    "> Where in the output clock to place the glitch. Can be in the range `[-50, 50]`. Often, we'll want to try many offsets when trying to glitch a target.\n",
    "* width\n",
    "> How wide to make the glitch. Can be in the range `[-50, 50]`. Wider glitches more easily cause glitches, but are also more likely to crash the target, meaning we'll often want to try a range of widths when attacking a target.\n",
    "* output\n",
    "> The output produced by the glitch module. For clock glitching, clock_xor is often the most useful option.\n",
    "* ext_offset\n",
    "> The number of clock cycles after the trigger to put the glitch. \n",
    "* repeat\n",
    "> The number of clock cycles to repeat the glitch for. Higher values increase the number of instructions that can be glitched, but often increase the risk of crashing the target.\n",
    "* trigger_src\n",
    "> How to trigger the glitch. For this tutorial, we want to automatically trigger the glitch from the trigger pin only after arming the ChipWhipserer, so we'll use `ext_single`\n",
    "\n",
    "In addition, we'll need to tell ChipWhipserer to use the glitch module's output as a clock source for the target by setting `scope.io.hs2 = \"glitch\"`. We'll also setup a large `repeat` to make glitching easier. Finally, we'll also use a `namedtuple` to make looping through parameters simpler."
   ]
  },
  {
   "cell_type": "markdown",
   "metadata": {},
   "source": [
    "### Glitch attack"
   ]
  },
  {
   "cell_type": "code",
   "execution_count": null,
   "metadata": {},
   "outputs": [],
   "source": [
    "from collections import namedtuple\n",
    "\n",
    "#Basic setup\n",
    "scope.glitch.clk_src = \"clkgen\" # set glitch input clock\n",
    "scope.glitch.output = \"clock_xor\" # glitch_out = clk ^ glitch\n",
    "scope.glitch.trigger_src = \"ext_single\" # glitch only after scope.arm() called\n",
    "\n",
    "scope.io.hs2 = \"glitch\"  # output glitch_out on the clock line\n",
    "\n",
    "Range = namedtuple('Range', ['min', 'max', 'step'])\n",
    "if PLATFORM == \"CWLITEXMEGA\" or PLATFORM == \"CW303\":\n",
    "    offset_range = Range(-10, 10, 1)\n",
    "    scope.glitch.repeat = 105\n",
    "elif PLATFORM == \"CWLITEARM\" or PLATFORM == \"CW308_STM32F3\":\n",
    "    offset_range = Range(-45, -30, 1)\n",
    "    scope.glitch.ext_offset = 37\n",
    "    scope.glitch.repeat = 5\n",
    "elif PLATFORM == \"OpenTitan\":\n",
    "    offset_range = Range(-45, 45, 1) # < -45 or > 45 results in double glitches\n",
    "    scope.glitch.ext_offset = 2\n",
    "    scope.glitch.repeat = 1\n",
    "    print(\"CLKGEN target frequency = \" + str(FREQUENCY/1e6) + \" MHz\\n\")\n",
    "    \n",
    "print(scope.glitch)"
   ]
  },
  {
   "cell_type": "markdown",
   "metadata": {},
   "source": [
    "### Attack Loop"
   ]
  },
  {
   "cell_type": "markdown",
   "metadata": {},
   "source": [
    "Now that the setup's done and we know how to use the glitch module, we can start our attack. The key parameters that we'll need to iterate through are `width` and `offset`, so we'll need some loops to change these. To know if we got a successful glitch, we'll check for \"1234\" in the output we get back. \n",
    "\n",
    "One additional improvement that we can make is to try each parameter multiple times and keep track of the success rate. Incorporating all of these improvements, our loop looks like:"
   ]
  },
  {
   "cell_type": "code",
   "execution_count": null,
   "metadata": {
    "code_folding": [],
    "scrolled": true
   },
   "outputs": [],
   "source": [
    "# ATTACk\n",
    "#from importlib import reload\n",
    "#reload(glitch)\n",
    "import chipwhisperer.common.results.glitch as glitch\n",
    "from tqdm import tnrange\n",
    "import os\n",
    "\n",
    "#### WRITE TO FILE\n",
    "bufsize = 4096\n",
    "dir_out = \"glitch\"\n",
    "filename = \"/opentitan4MHz_001.txt\"\n",
    "if os.path.exists(dir_out):\n",
    "    file = open(dir_out + filename, \"a\", buffering=bufsize)\n",
    "else:\n",
    "    try:\n",
    "        os.mkdir(dir_out)\n",
    "        file = open(dir_out + filename, \"a\", buffering=bufsize)\n",
    "    except OSError as exc:\n",
    "        if exc.errno != errno.EEXIST:\n",
    "            raise\n",
    "        pass\n",
    "\n",
    "FREQUENCY = 4e6 #20e6\n",
    "scope.clock.clkgen_freq = FREQUENCY # 20 MHz, has to fit to OpenTitan design\n",
    "print(\"CLKGEN target frequency = \" + str(FREQUENCY/1e6) + \" MHz\\n\")\n",
    "scope.glitch.trigger_src = \"ext_single\"\n",
    "response = \"\"\n",
    "result = bytes()\n",
    "out = \"\"\n",
    "\n",
    "gr = glitch.GlitchResults(groups=[\"success\", \"reset\", \"normal\"], parameters=[\"width\", \"offset\"])\n",
    "attack1_data = []\n",
    "\n",
    "scope.glitch.ext_offset = 1\n",
    "scope.glitch.repeat = 1\n",
    "\n",
    "offset_range = Range(-45, -30, 1)\n",
    "width_range = Range(-10, 10, 1)\n",
    "ext_offset_range = Range(0, 2, 1)\n",
    "\n",
    "\n",
    "sample_size = 1\n",
    "successes = 0\n",
    "scope.glitch.width = width_range.min\n",
    "scope.glitch.offset = offset_range.min\n",
    "print(scope.glitch)\n",
    "\n",
    "for width in tnrange(width_range.min, width_range.max, width_range.step, desc=\"width\", leave=False):\n",
    "    if (width == 0):\n",
    "        continue\n",
    "    scope.glitch.width = width            \n",
    "    for offset in tnrange(offset_range.min, offset_range.max, offset_range.step, desc=\"offset\", leave=False):\n",
    "        if (offset == 0):\n",
    "            continue\n",
    "        scope.glitch.offset = offset\n",
    "        response = None\n",
    "        result = None\n",
    "        chars_read = None\n",
    "        out = None\n",
    "        reply = bytearray()\n",
    "\n",
    "        scope.arm()\n",
    "        reset_target(scope)\n",
    "        target.flush()\n",
    "        errout = flash_software()\n",
    "        time.sleep(0.5)\n",
    "        \n",
    "        if errout:\n",
    "            print(\"Flashing software failed, retry\")\n",
    "            scope.clock.clkgen_freq = FREQUENCY\n",
    "            time.sleep(0.01)\n",
    "            reset_target(scope)\n",
    "\n",
    "        ret = scope.capture()\n",
    "        if ret:\n",
    "            print('Timeout happened during acquisition')\n",
    "            continue\n",
    "\n",
    "        num_char = target.in_waiting()\n",
    "        while num_char > 0:\n",
    "            chars_read = target.read() # num_char, 10\n",
    "            time.sleep(0.1)\n",
    "            num_char = target.in_waiting()\n",
    "\n",
    "        if chars_read:\n",
    "            try:\n",
    "                \n",
    "                result = str(chars_read, encoding, errors='ignore')\n",
    "                \n",
    "                if \"flash!\" in result:\n",
    "                    result = result.split(\"flash!\", 1)\n",
    "                    out = result[1]                  \n",
    "                    #print(out)\n",
    "                    if 'flash' in out:\n",
    "                        print(out)\n",
    "                        num_char = target.in_waiting()\n",
    "                        while num_char > 0:\n",
    "                            reply = target.read() # num_char, 10\n",
    "                            time.sleep(0.1)\n",
    "                            num_char = target.in_waiting()\n",
    "                        \n",
    "                        if '1234' in repr(reply): # repr(response):\n",
    "                            print(\"sucess!\\n\")\n",
    "                            attack1_data.append([scope.glitch.width, scope.glitch.offset, successes/sample_size, repr(response)]\n",
    "                        \n",
    "                        if reply:\n",
    "                            response = str(reply, encoding, errors='ignore')\n",
    "                            print(response)\n",
    "            except:\n",
    "                 pass  \n",
    "        )\n",
    "                \n",
    "\n",
    "print(\"Done glitching\")\n",
    "file.close()"
   ]
  },
  {
   "cell_type": "markdown",
   "metadata": {},
   "source": [
    "Now that we've tried some glitches, let's look at the results. We can visualize them to help understand what (if any) successes we got. More importantly, we can see what area they lie within."
   ]
  },
  {
   "cell_type": "code",
   "execution_count": null,
   "metadata": {},
   "outputs": [],
   "source": [
    "%matplotlib notebook\n",
    "import matplotlib.pylab as plt\n",
    "gr.plot_2d(plotdots={\"success\":\"+g\", \"reset\":\"xr\", \"normal\":\".k\"})"
   ]
  },
  {
   "cell_type": "markdown",
   "metadata": {},
   "source": [
    "With any luck, you'll have some successful glitches. Create a smaller range of offsets and widths where the majority of successful glitches can be found. This will greatly speed up future attacks (though be sure not to make the bounds too small, since you might miss successful settings for some attacks). For example, you may have found most of your glitches between a width `[-9,-5]` and an offset of `[-37, -40]`, so good ranges might be `[-10, -4]` and `[-35, -41]`.\n",
    "\n",
    "If you didn't get any successful glitches, note that we only used an `offset` of `[-10,10]` or `[-49, -30]` (the max is `[-50, 50]`). Try using a larger range of offsets to see if a successful offset lies outside of this range.\n",
    "\n",
    "If you want to take this attack further, try reducing the `repeat` to 1 and iterating through `ext_offset` to look for the precise clock cycle where the glitch succeeds. To save time, pick a `width` and `offset` that worked for you and only vary `ext_offset`. Note that even with the right parameters and location, inserting a glitch won't always work, so a better strategy may be to loop infinitely over `ext_offset` values until you get a successful glitch.\n",
    "\n",
    "**HINT: We used a `repeat` of 105 for this attack (and an `ext_offset` of 0) on XMEGA, which put a glitch in each of the first 105 clock cycles. This means `ext_offset` must be in the range `[0,105]` for this target.**"
   ]
  },
  {
   "cell_type": "markdown",
   "metadata": {
    "heading_collapsed": true
   },
   "source": [
    "## Attack 2"
   ]
  },
  {
   "cell_type": "markdown",
   "metadata": {
    "hidden": true
   },
   "source": [
    "Now that you (hopefully) have parameters that cause semi-reliable glitches, we can look at a more challenging example: a password check. Go back to `glitchsimple.c` and find the `glitch3()` function:\n",
    "\n",
    "```C\n",
    "void glitch3(void)\n",
    "{\n",
    "    char inp[16];\n",
    "    char c = 'A';\n",
    "    unsigned char cnt = 0;\n",
    "    uart_puts(\"Password:\");\n",
    "\n",
    "    while((c != '\\n') & (cnt < 16)){\n",
    "        c = getch();\n",
    "        inp[cnt] = c;\n",
    "        cnt++;\n",
    "    }\n",
    "\n",
    "    char passwd[] = \"touch\";\n",
    "    char passok = 1;\n",
    "\n",
    "    trigger_high();\n",
    "    trigger_low();\n",
    "\n",
    "    //Simple test - doesn't check for too-long password!\n",
    "    for(cnt = 0; cnt < 5; cnt++){\n",
    "        if (inp[cnt] != passwd[cnt]){\n",
    "            passok = 0;\n",
    "        }\n",
    "    }\n",
    "\n",
    "    if (!passok){\n",
    "        uart_puts(\"Denied\\n\");\n",
    "    } else {\n",
    "        uart_puts(\"Welcome\\n\");\n",
    "    }\n",
    "}\n",
    "```\n",
    "\n",
    "As you might expect, we'll try to glitch past the `if(!passok)` check towards the end of the code. Like before, we'll build and program the new firmware, using `FUNC_SEL` to build with `glitch3()`."
   ]
  },
  {
   "cell_type": "code",
   "execution_count": null,
   "metadata": {
    "hidden": true
   },
   "outputs": [],
   "source": [
    "%%bash -s \"$PLATFORM\" \"$CRYPTO_TARGET\"\n",
    "cd ../hardware/victims/firmware/glitch-simple\n",
    "make PLATFORM=$1 CRYPTO_TARGET=$2 FUNC_SEL=GLITCH3"
   ]
  },
  {
   "cell_type": "code",
   "execution_count": null,
   "metadata": {
    "hidden": true
   },
   "outputs": [],
   "source": [
    "cw.program_target(scope, prog, fw_path)"
   ]
  },
  {
   "cell_type": "markdown",
   "metadata": {
    "hidden": true
   },
   "source": [
    "Now let's make sure we can communicate with the password checker with a successful password:"
   ]
  },
  {
   "cell_type": "code",
   "execution_count": null,
   "metadata": {
    "hidden": true
   },
   "outputs": [],
   "source": [
    "target.flush()\n",
    "scope.arm()\n",
    "target.write(\"touch\\n\")\n",
    "\n",
    "ret = scope.capture()\n",
    "if ret:\n",
    "    print(\"Scope capture timed out\")\n",
    "response = target.read(timeout = 10)\n",
    "print(response)"
   ]
  },
  {
   "cell_type": "markdown",
   "metadata": {
    "hidden": true
   },
   "source": [
    "and an unsuccessful one:"
   ]
  },
  {
   "cell_type": "code",
   "execution_count": null,
   "metadata": {
    "hidden": true
   },
   "outputs": [],
   "source": [
    "target.flush()\n",
    "scope.arm()\n",
    "target.write(\"x\\n\")\n",
    "\n",
    "ret = scope.capture()\n",
    "if ret:\n",
    "    print(\"Scope capture timed out\")\n",
    "response = target.read(timeout = 10)\n",
    "print(response)"
   ]
  },
  {
   "cell_type": "markdown",
   "metadata": {
    "hidden": true
   },
   "source": [
    "One thing that you may have run into in the previous part is that using a large repeat value makes the target more likely to crash. As mentioned in the previous part, we can use smaller ranges of offset and width, use a repeat value of 1, and iterate through the external offset instead to get a successful glitch. This is often a much more reliable way to glitch targets.\n",
    "\n",
    "One other thing we need to consider is crashing. In the previous part, we didn't need to worry about crashing since we always reset after a glitch attempt anyway. This is no longer true. Instead we'll need to detect crashes and, if they happen, reset the target. Typically a good way to detect crashes is by running through the loop again and looking for a timeout. This is rather slow, but for this attack, we don't really have a better method. One thing we can do to speed this up is to decrease the adc timeout value (via `scope.adc.timeout`). Resetting is the same in the last part.\n",
    "\n",
    "Putting it all together (don't forget to update the width and offset with ranges that worked in the last part):"
   ]
  },
  {
   "cell_type": "markdown",
   "metadata": {
    "heading_collapsed": true,
    "hidden": true
   },
   "source": [
    "### Attack Loop"
   ]
  },
  {
   "cell_type": "code",
   "execution_count": null,
   "metadata": {
    "hidden": true
   },
   "outputs": [],
   "source": [
    "scope.glitch.clk_src = \"clkgen\"\n",
    "scope.glitch.output = \"clock_xor\"\n",
    "scope.glitch.trigger_src = \"ext_single\"\n",
    "scope.glitch.repeat = 1\n",
    "scope.glitch.ext_offset = 0\n",
    "scope.io.hs2 = \"glitch\"\n",
    "\n",
    "attack2_data = []\n",
    "scope.adc.timeout = 0.1\n",
    "if PLATFORM == \"CW303\" or PLATFORM == \"CWLITEXMEGA\":\n",
    "    pass\n",
    "elif PLATFORM == \"CWLITEARM\" or PLATFORM == \"CW308_STM32F3\":\n",
    "    offset_range = Range(-41, -35, 1)\n",
    "    width_range = Range(-10, -5, 1)\n",
    "\n",
    "scope.glitch.width = width_range.min\n",
    "for width in tnrange(width_range.min, width_range.max, width_range.step):\n",
    "    scope.glitch.offset = offset_range.min\n",
    "    for offset in tnrange(offset_range.min, offset_range.max, offset_range.step, leave=False):\n",
    "        for i in range(0, 20):\n",
    "            scope.glitch.ext_offset = i\n",
    "            target.flush()\n",
    "            scope.arm()\n",
    "            target.write(\"x\\n\")\n",
    "            \n",
    "            ret = scope.capture()\n",
    "            if ret:\n",
    "                print('Timeout happened during acquisition')\n",
    "                reset_target(scope)\n",
    "                \n",
    "            # read from the targets buffer\n",
    "            response = target.read(timeout = 10)\n",
    "\n",
    "            # for table display purposes\n",
    "            success = 'Welcome' in repr(response) # check for glitch success (depends on targets active firmware)\n",
    "            attack2_data.append([scope.glitch.offset, scope.glitch.width, scope.glitch.ext_offset, success, repr(response)])\n",
    "        scope.glitch.offset += offset_range.step\n",
    "    scope.glitch.width += width_range.step\n",
    "print(\"Done glitching\")"
   ]
  },
  {
   "cell_type": "code",
   "execution_count": null,
   "metadata": {
    "hidden": true
   },
   "outputs": [],
   "source": [
    "print(scope.adc.trig_count)\n",
    "for row in attack2_data:\n",
    "    if row[3]:\n",
    "        print(row)"
   ]
  },
  {
   "cell_type": "markdown",
   "metadata": {
    "hidden": true
   },
   "source": [
    "With any luck, you should have some successful attacks. If you weren't able to glitch the target, you may want to try a larger range of width/offset values. You may also want to try decreasing the step value for these ranges as well.\n",
    "\n",
    "With the tutorial now over, we should disconnect from the ChipWhisperer"
   ]
  },
  {
   "cell_type": "code",
   "execution_count": null,
   "metadata": {
    "hidden": true
   },
   "outputs": [],
   "source": [
    "scope.dis()\n",
    "target.dis()"
   ]
  },
  {
   "cell_type": "markdown",
   "metadata": {
    "heading_collapsed": true
   },
   "source": [
    "## Glitching Onward"
   ]
  },
  {
   "cell_type": "markdown",
   "metadata": {
    "hidden": true
   },
   "source": [
    "This basic tutorial has introduced you to glitch attacks. They are a powerful tool for bypassing authentication in embedded hardware devices. There are many ways to expand your knowledge with additional practice, such as:\n",
    "\n",
    "* Completing the VCC Glitch Attacks tutorial (not yet available), which introduces glitching via voltage instead of the clock.\n",
    "* Download some example source code (bootloaders, login prompts, etc) and port them to your target. See how you can glitch past security checks."
   ]
  },
  {
   "cell_type": "markdown",
   "metadata": {},
   "source": [
    "## Tests"
   ]
  },
  {
   "cell_type": "code",
   "execution_count": null,
   "metadata": {},
   "outputs": [],
   "source": [
    "success = False\n",
    "for row in attack1_data:\n",
    "    if row[2] > 0:\n",
    "        success = True\n",
    "assert success, \"Failed to glitch attack 1\\n{}\".format(attack1_data)"
   ]
  },
  {
   "cell_type": "code",
   "execution_count": null,
   "metadata": {},
   "outputs": [],
   "source": [
    "success = False\n",
    "for row in attack2_data:\n",
    "    if row[3]:\n",
    "        success = True\n",
    "assert success, \"Failed to glitch attack 2\\n{}\".format(attack2_data)"
   ]
  },
  {
   "cell_type": "markdown",
   "metadata": {},
   "source": [
    "# Continuous Glitching"
   ]
  },
  {
   "cell_type": "code",
   "execution_count": null,
   "metadata": {
    "code_folding": [],
    "scrolled": false
   },
   "outputs": [],
   "source": [
    "import chipwhisperer.common.results.glitch as glitch\n",
    "from tqdm import tnrange\n",
    "\n",
    "scope.qtadc.sc._nosampletimeout = 200\n",
    "scope.glitch.trigger_src = \"continuous\"\n",
    "\n",
    "sample_size = 5\n",
    "successes = 0\n",
    "\n",
    "encoding = 'utf-8'\n",
    "result = \"\"\n",
    "resp = bytearray()\n",
    "glitched = True  # only for start\n",
    "success = False\n",
    "\n",
    "gr = glitch.GlitchResults(groups=[\"success\", \"reset\", \"normal\"], parameters=[\"width\", \"offset\"])\n",
    "attack1_data = []\n",
    "\n",
    "#### WRITE TO FILE\n",
    "bufsize = 4096\n",
    "dir_out = \"glitch\"\n",
    "filepath = \"/opentitan4MHz_001.txt\"\n",
    "if os.path.exists(dir_out):\n",
    "    file = open(dir_out + filepath, \"a\", buffering=bufsize)\n",
    "else:\n",
    "    try:\n",
    "        os.mkdir(dir_out)\n",
    "        file = open(dir_out + filepath, \"a\", buffering=bufsize)\n",
    "    except OSError as exc:\n",
    "        if exc.errno != errno.EEXIST:\n",
    "            raise\n",
    "        pass\n",
    "    \n",
    "\n",
    "offset_range = Range(-45, 45, 1)\n",
    "scope.glitch.ext_offset = 37\n",
    "scope.glitch.repeat = 1 # 105\n",
    "width_range = Range(-10, 10, 1)\n",
    "FREQUENCY = 4e6 #20e6\n",
    "\n",
    "#####################\n",
    "#### ATTACK LOOP ####\n",
    "####################\n",
    "\n",
    "while not success:\n",
    "\n",
    "    scope.clock.clkgen_freq = FREQUENCY # 20 MHz output clock, has to fit to OpenTitan design\n",
    "    print(\"CLKGEN target frequency = \" + str(scope.clock.clkgen_freq/1e6) + \" MHz\")\n",
    "    reset_target(scope)\n",
    "    target.flush()\n",
    "    target.flush()\n",
    "    \n",
    "    scope.arm()\n",
    "    time.sleep(0.01)\n",
    "    flash_software()\n",
    "    time.sleep(0.45)\n",
    "    #target.flush()\n",
    "    \n",
    "    done = False\n",
    "    glitched = False\n",
    "    resp = bytearray()\n",
    "    reply = bytearray()\n",
    "    result = \"\"\n",
    "    ret = scope.capture()\n",
    "    if ret:\n",
    "        print('Timeout happened during acquisition')\n",
    "\n",
    "    num_char = target.in_waiting()\n",
    "    while num_char > 0:\n",
    "        resp += target.read() # num_char, 10\n",
    "        time.sleep(0.01)\n",
    "        num_char = target.in_waiting()\n",
    "\n",
    "    if resp:\n",
    "        try:\n",
    "            result = str(resp, encoding, errors='ignore')\n",
    "            if \"*****\" in result:\n",
    "                result = result.split(\"*****\", 1)\n",
    "                result = result[1]\n",
    "                if 'A' in repr(result):\n",
    "                    print(mColors.CGREY + \"Start...\" + mColors.ENDC)\n",
    "        except:\n",
    "            print(mColors.CGREY + \"Could not find 'A' in it\" + mColors.ENDC)\n",
    "\n",
    "    \n",
    "    time.sleep(0.5)\n",
    "    for width in tnrange(width_range.min, width_range.max, width_range.step, desc='width', leave=False):\n",
    "        if (width == 0):\n",
    "            continue\n",
    "        scope.glitch.offset = width\n",
    "        for offset in tnrange(offset_range.min, offset_range.max, offset_range.step, desc='offset', leave=False):\n",
    "            if (offset == 0):\n",
    "                continue\n",
    "            scope.glitch.offset = offset\n",
    "            scope.glitch.manual_trigger\n",
    "            num_char = target.in_waiting()\n",
    "            time.sleep(0.05) # 0.45 # may adapt it\n",
    "            \n",
    "            response = \"\"\n",
    "            reply = bytearray()\n",
    "            num_char = target.in_waiting()\n",
    "            while num_char > 0:\n",
    "                reply += target.read()\n",
    "                time.sleep(0.01)\n",
    "                num_char = target.in_waiting()\n",
    "            if reply:\n",
    "                reply += target.read()\n",
    "                time.sleep(0.01)\n",
    "                reply += target.read()\n",
    "                response = str(reply, encoding, errors='ignore')\n",
    "                if response:\n",
    "                    print(mColors.CLGREY + response + mColors.ENDC)\n",
    "                    print(\"\")\n",
    "                    print(scope.glitch)\n",
    "\n",
    "                    glitched = True\n",
    "                    successes += 1\n",
    "                    file.write(\"\\n\")\n",
    "                    file.write(repr(response) + \"\\n\")\n",
    "                    file.write(repr(scope.glitch))\n",
    "                    os.fsync(file.fileno())\n",
    "                    file.write(\"---------\\n\")\n",
    "                    attack1_data.append([scope.glitch.width, scope.glitch.offset, successes/sample_size, repr(response)])\n",
    "                    if \"1234\" in repr(response):\n",
    "                        print(mColors.CGREEN + \"Success!\" + mColors.ENDC)\n",
    "                        success = True\n",
    "                        gr.add(\"success\", (scope.glitch.width, scope.glitch.offset))\n",
    "                        print(\"🐙\", end=\"\")\n",
    "                        attack1_data.append([scope.glitch.width, scope.glitch.offset, successes/sample_size, repr(response)])\n",
    "\n",
    "                        file.write(repr(response) + \"\\n\")\n",
    "                        file.write(repr(scope.glitch))\n",
    "                        file.flush()\n",
    "                        os.fsync(file.fileno())\n",
    "                        file.write(\"---------\\n\")\n",
    "                        attack1_data.append([scope.glitch.width, scope.glitch.offset, successes/sample_size, repr(response)])\n",
    "                        # run aux stuff that should happen after trace here\n",
    "            if glitched:\n",
    "                break\n",
    "        if glitched:\n",
    "            break\n",
    "\n",
    "    print(\"---------\")\n",
    "    print(successes)\n",
    "    #if gr:\n",
    "print(gr)\n",
    "print(attack1_data)"
   ]
  },
  {
   "cell_type": "code",
   "execution_count": null,
   "metadata": {},
   "outputs": [],
   "source": [
    "#### In case target crashes somehow, e.g. flashing not possible, run this cell \n",
    "#### if this does not work either, reflash bitstream\n",
    "%run \"Setup_Scripts/Setup_OpenTitan.ipynb\"\n",
    "\n",
    "#### Define outging Clock frequency for OpenTitan\n",
    "scope.clock.clkgen_freq = FREQUENCY # 20 MHz output clock, has to fit to OpenTitan design\n",
    "print(\"CLKGEN target frequency = \" + str(scope.clock.clkgen_freq/1e6) + \" MHz\")\n",
    "reset_target(scope)\n",
    "time.sleep(0.025)\n",
    "flash_software()\n",
    "target.flush()"
   ]
  },
  {
   "cell_type": "code",
   "execution_count": null,
   "metadata": {
    "code_folding": []
   },
   "outputs": [],
   "source": [
    "##### manual / continuous attack\n",
    "offset_range = Range(-45, 45, 1)\n",
    "scope.glitch.ext_offset = 3\n",
    "scope.glitch.repeat = 105\n",
    "\n",
    "width_range = Range(-45, 45, 1)\n",
    "scope.glitch.width = width_range.min\n",
    "\n",
    "#scope.clock.clkgen_freq = FREQUENCY # 20 MHz, has to fit to OpenTitan design\n",
    "print(\"target frequency = \" + str(scope.clock.clkgen_freq))\n",
    "scope.glitch.trigger_src = 'manual'\n",
    "print(\"trigger = \" + str(scope.glitch.trigger_src))\n",
    "print(\"scope.adc.state = \" + str(scope.adc.state))\n",
    "encoding = 'utf-8'\n",
    "response = \"\"\n",
    "result = bytes()\n",
    "out = \"\"\n",
    "\n",
    "sample_size = 5\n",
    "clk = 125e-9\n",
    "\n",
    "scope.arm()\n",
    "ret = scope.capture()\n",
    "for width in tnrange(width_range.min, width_range.max, width_range.step, desc=\"width\", leave=False):\n",
    "    if (width == 0):\n",
    "        continue\n",
    "    scope.glitch.width = width\n",
    "    \n",
    "    for offset in tnrange(offset_range.min, offset_range.max, offset_range.step, desc=\"offset\", leave=False):\n",
    "        successes = 0\n",
    "        if (offset == 0):\n",
    "            continue\n",
    "        for i in tnrange(sample_size, desc=\"sample\", leave=False):\n",
    "            scope.glitch.offset = offset\n",
    "            scope.glitch.manual_trigger\n",
    "            time.sleep(0.1)\n",
    "            \n",
    "print(\"Done glitching\")"
   ]
  },
  {
   "cell_type": "markdown",
   "metadata": {},
   "source": [
    "# Attack loop"
   ]
  },
  {
   "cell_type": "code",
   "execution_count": null,
   "metadata": {},
   "outputs": [],
   "source": [
    "scope.clock.clkgen_freq = 8e6 # 8 MHz, has to fit to OpenTitan design\n",
    "print(\"target frequency = \" + str(scope.clock.clkgen_freq))\n",
    "reset_target(scope)\n",
    "time.sleep(0.025)\n",
    "flash_software(flash_file, file_path)\n",
    "target.flush()"
   ]
  },
  {
   "cell_type": "code",
   "execution_count": null,
   "metadata": {
    "code_folding": []
   },
   "outputs": [],
   "source": [
    "# ATTACk\n",
    "#from importlib import reload\n",
    "#reload(glitch)\n",
    "import chipwhisperer.common.results.glitch as glitch\n",
    "from tqdm import tnrange\n",
    "\n",
    "#scope.clock.clkgen_freq = 4e6 # 8 MHz, has to fit to OpenTitan design\n",
    "print(\"target frequency = \" + str(scope.clock.clkgen_freq))\n",
    "print(\"trigger = \" + str(scope.glitch.trigger_src))\n",
    "print(\"scope.adc.state = \" + str(scope.adc.state))\n",
    "encoding = 'utf-8'\n",
    "response = \"\"\n",
    "result = bytes()\n",
    "out = \"\"\n",
    "\n",
    "gr = glitch.GlitchResults(groups=[\"success\", \"reset\", \"normal\"], parameters=[\"width\", \"offset\"])\n",
    "attack1_data = []\n",
    "\n",
    "offset_range = Range(-11, -10, 1)\n",
    "width_range = Range(-40, -27, 1)\n",
    "\n",
    "ext_offset_range = Range(7, 11, 1) #453825, 493825, 1)\n",
    "scope.glitch.ext_offset = ext_offset_range.min\n",
    "scope.glitch.repeat = 5\n",
    "\n",
    "sample_size = 1\n",
    "\n",
    "scope.glitch.width = width_range.min\n",
    "\n",
    "for ext_off in tnrange(ext_offset_range.min, ext_offset_range.max, ext_offset_range.step, desc=\"ext_offset\", leave=False):\n",
    "    for width in tnrange(width_range.min, width_range.max, width_range.step, desc=\"width\", leave=False):\n",
    "        scope.glitch.offset = offset_range.min\n",
    "        for offset in tnrange(offset_range.min, offset_range.max, offset_range.step, desc=\"offset\", leave=False):\n",
    "            response = None\n",
    "            result = bytes()\n",
    "            chars_read = None\n",
    "            out = None\n",
    "            scope.clock.clkgen_freq = 8e6\n",
    "            scope.arm()\n",
    "            reset_target(scope)\n",
    "            time.sleep(0.025)\n",
    "            flash_software(flash_file, file_path)\n",
    "            time.sleep(3)\n",
    "            target.flush()\n",
    "\n",
    "            ret = scope.capture()\n",
    "            if ret:\n",
    "                print('Timeout happened during acquisition')\n",
    "            else:\n",
    "                try:                \n",
    "                    target.flush()\n",
    "                    #time.sleep(0.015)\n",
    "                    num_char = target.in_waiting()\n",
    "                    while num_char > 0:\n",
    "                        chars_read = target.read() # num_char, 10\n",
    "                        time.sleep(0.01)\n",
    "                        num_char = target.in_waiting()\n",
    "\n",
    "                    if chars_read:\n",
    "                        try:\n",
    "                            #result = str(chars_read, encoding)\n",
    "                            result = str(chars_read, encoding, errors='ignore')\n",
    "                            if \"*****\" in result:\n",
    "                                result = result.split(\"*****\", 1)\n",
    "                                out = result[1]\n",
    "                                #print(out)\n",
    "                                # for table display purposes\n",
    "                                if '1234' in repr(out): # repr(response):\n",
    "                                    print(\"sucess!\\n\")\n",
    "                                    successes += 1\n",
    "                                    gr.add(\"success\", (scope.glitch.width, scope.glitch.offset))\n",
    "                                    print(\"🐙\", end=\"\")\n",
    "                                    attack1_data.append([scope.glitch.width, scope.glitch.offset, successes/sample_size, repr(res)])\n",
    "                                else:\n",
    "                                    #if ('A') not in repr(out): # \n",
    "                                    print(out)\n",
    "                                    if ('ArE') in (out): # \n",
    "                                        print(\"text: %s\\n\" % (out))\n",
    "                                        print(\"scope.adc.state = \" + str(scope.adc.state))\n",
    "                                        print(\"width = %s, offset = %s, sample = %d\" % (str(scope.glitch.width), str(scope.glitch.offset) , int(i)))\n",
    "                                        attack1_data.append([scope.glitch.width, scope.glitch.offset, successes/sample_size, repr(res)])\n",
    "                                    else:\n",
    "                                        print(\"text: %s\\n\" % (out))\n",
    "                                    gr.add(\"normal\", (scope.glitch.width, scope.glitch.offset))\n",
    "                        except:\n",
    "                             continue\n",
    "                except:\n",
    "                     continue\n",
    "                #attack1_data.append([scope.glitch.width, scope.glitch.offset, successes/sample_size, repr(response)])\n",
    "            # run aux stuff that should happen after trace here\n",
    "            ofset = scope.glitch.offset\n",
    "            if ((ofset + offset_range.step) < 47):\n",
    "                scope.glitch.offset += offset_range.step\n",
    "        wid = scope.glitch.width\n",
    "        if ((wid + width_range.step) < 47):\n",
    "            scope.glitch.width += width_range.step\n",
    "    scope.glitch.ext_offset += ext_offset_range.step\n",
    "\n",
    "print(\"Done glitching\")"
   ]
  },
  {
   "cell_type": "code",
   "execution_count": null,
   "metadata": {},
   "outputs": [],
   "source": []
  },
  {
   "cell_type": "markdown",
   "metadata": {},
   "source": [
    "# Test"
   ]
  },
  {
   "cell_type": "code",
   "execution_count": null,
   "metadata": {},
   "outputs": [],
   "source": [
    "#assert (gr is not None), \"Failed to glitch the target.\"\n",
    "assert (len(attack1_data) != 0), \"Failed to glitch the target.\""
   ]
  },
  {
   "cell_type": "code",
   "execution_count": null,
   "metadata": {},
   "outputs": [],
   "source": []
  }
 ],
 "metadata": {
  "kernelspec": {
   "display_name": "Python 3",
   "language": "python",
   "name": "python3"
  },
  "language_info": {
   "codemirror_mode": {
    "name": "ipython",
    "version": 3
   },
   "file_extension": ".py",
   "mimetype": "text/x-python",
   "name": "python",
   "nbconvert_exporter": "python",
   "pygments_lexer": "ipython3",
   "version": "3.7.6"
  },
  "varInspector": {
   "cols": {
    "lenName": 16,
    "lenType": 16,
    "lenVar": 40
   },
   "kernels_config": {
    "python": {
     "delete_cmd_postfix": "",
     "delete_cmd_prefix": "del ",
     "library": "var_list.py",
     "varRefreshCmd": "print(var_dic_list())"
    },
    "r": {
     "delete_cmd_postfix": ") ",
     "delete_cmd_prefix": "rm(",
     "library": "var_list.r",
     "varRefreshCmd": "cat(var_dic_list()) "
    }
   },
   "types_to_exclude": [
    "module",
    "function",
    "builtin_function_or_method",
    "instance",
    "_Feature"
   ],
   "window_display": false
  }
 },
 "nbformat": 4,
 "nbformat_minor": 2
}
