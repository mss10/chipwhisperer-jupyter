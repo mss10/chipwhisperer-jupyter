{
 "cells": [
  {
   "cell_type": "code",
   "execution_count": 1,
   "metadata": {
    "collapsed": true
   },
   "outputs": [
    {
     "name": "stderr",
     "output_type": "stream",
     "text": [
      "Traceback (most recent call last):\n",
      "  File \"<ipython-input-1-536a38a260a6>\", line 3, in <module>\n",
      "    if not scope.connectStatus:\n",
      "NameError: name 'scope' is not defined\n",
      "\n",
      "During handling of the above exception, another exception occurred:\n",
      "\n",
      "Traceback (most recent call last):\n",
      "  File \"/home/ms/chipwhisperer/software/chipwhisperer/hardware/naeusb/naeusb.py\", line 295, in txrx\n",
      "    response = self.open(serial_number=payload)\n",
      "  File \"/home/ms/chipwhisperer/software/chipwhisperer/hardware/naeusb/naeusb.py\", line 349, in open\n",
      "    dev.set_configuration()\n",
      "  File \"/home/ms/.local/lib/python3.7/site-packages/usb/core.py\", line 869, in set_configuration\n",
      "    self._ctx.managed_set_configuration(self, configuration)\n",
      "  File \"/home/ms/.local/lib/python3.7/site-packages/usb/core.py\", line 102, in wrapper\n",
      "    return f(self, *args, **kwargs)\n",
      "  File \"/home/ms/.local/lib/python3.7/site-packages/usb/core.py\", line 148, in managed_set_configuration\n",
      "    self.backend.set_configuration(self.handle, cfg.bConfigurationValue)\n",
      "  File \"/home/ms/.local/lib/python3.7/site-packages/usb/backend/libusb1.py\", line 794, in set_configuration\n",
      "    _check(self.lib.libusb_set_configuration(dev_handle.handle, config_value))\n",
      "  File \"/home/ms/.local/lib/python3.7/site-packages/usb/backend/libusb1.py\", line 595, in _check\n",
      "    raise USBError(_strerror(ret), ret, _libusb_errno[ret])\n",
      "usb.core.USBError: [Errno 16] Resource busy\n",
      "/home/ms/chipwhisperer/software/chipwhisperer/common/utils/util.py:474: UserWarning: getName function is deprecated use get_name instead.\n",
      "  warnings.warn('{} function is deprecated use {} instead.'.format(cc_func, func.__name__))\n"
     ]
    },
    {
     "ename": "Warning",
     "evalue": "Could not connect to \"NewAE USB (CWLite/CW1200)\". It may have been disconnected, is in an error state, or is being used by another tool.",
     "output_type": "error",
     "traceback": [
      "\u001b[0;31m---------------------------------------------------------------------------\u001b[0m",
      "\u001b[0;31mNameError\u001b[0m                                 Traceback (most recent call last)",
      "\u001b[0;32m<ipython-input-1-536a38a260a6>\u001b[0m in \u001b[0;36m<module>\u001b[0;34m\u001b[0m\n\u001b[1;32m      2\u001b[0m \u001b[0;32mtry\u001b[0m\u001b[0;34m:\u001b[0m\u001b[0;34m\u001b[0m\u001b[0;34m\u001b[0m\u001b[0m\n\u001b[0;32m----> 3\u001b[0;31m     \u001b[0;32mif\u001b[0m \u001b[0;32mnot\u001b[0m \u001b[0mscope\u001b[0m\u001b[0;34m.\u001b[0m\u001b[0mconnectStatus\u001b[0m\u001b[0;34m:\u001b[0m\u001b[0;34m\u001b[0m\u001b[0;34m\u001b[0m\u001b[0m\n\u001b[0m\u001b[1;32m      4\u001b[0m         \u001b[0mscope\u001b[0m\u001b[0;34m.\u001b[0m\u001b[0mcon\u001b[0m\u001b[0;34m(\u001b[0m\u001b[0;34m)\u001b[0m\u001b[0;34m\u001b[0m\u001b[0;34m\u001b[0m\u001b[0m\n",
      "\u001b[0;31mNameError\u001b[0m: name 'scope' is not defined",
      "\nDuring handling of the above exception, another exception occurred:\n",
      "\u001b[0;31mUSBError\u001b[0m                                  Traceback (most recent call last)",
      "\u001b[0;32m~/chipwhisperer/software/chipwhisperer/capture/scopes/openadc_interface/naeusbchip.py\u001b[0m in \u001b[0;36mcon\u001b[0;34m(self, sn)\u001b[0m\n\u001b[1;32m     86\u001b[0m                     \u001b[0;31m#sn = None\u001b[0m\u001b[0;34m\u001b[0m\u001b[0;34m\u001b[0m\u001b[0;34m\u001b[0m\u001b[0m\n\u001b[0;32m---> 87\u001b[0;31m                 \u001b[0mfound_id\u001b[0m \u001b[0;34m=\u001b[0m \u001b[0mself\u001b[0m\u001b[0;34m.\u001b[0m\u001b[0mdev\u001b[0m\u001b[0;34m.\u001b[0m\u001b[0mcon\u001b[0m\u001b[0;34m(\u001b[0m\u001b[0midProduct\u001b[0m\u001b[0;34m=\u001b[0m\u001b[0mnae_products\u001b[0m\u001b[0;34m,\u001b[0m \u001b[0mserial_number\u001b[0m\u001b[0;34m=\u001b[0m\u001b[0msn\u001b[0m\u001b[0;34m)\u001b[0m\u001b[0;34m\u001b[0m\u001b[0;34m\u001b[0m\u001b[0m\n\u001b[0m\u001b[1;32m     88\u001b[0m             \u001b[0;32mexcept\u001b[0m \u001b[0;34m(\u001b[0m\u001b[0mIOError\u001b[0m\u001b[0;34m,\u001b[0m \u001b[0mValueError\u001b[0m\u001b[0;34m)\u001b[0m\u001b[0;34m:\u001b[0m\u001b[0;34m\u001b[0m\u001b[0;34m\u001b[0m\u001b[0m\n",
      "\u001b[0;32m~/chipwhisperer/software/chipwhisperer/capture/scopes/cwhardware/ChipWhispererLite.py\u001b[0m in \u001b[0;36mcon\u001b[0;34m(self, *args, **kwargs)\u001b[0m\n\u001b[1;32m     49\u001b[0m     \u001b[0;32mdef\u001b[0m \u001b[0mcon\u001b[0m\u001b[0;34m(\u001b[0m\u001b[0mself\u001b[0m\u001b[0;34m,\u001b[0m \u001b[0;34m*\u001b[0m\u001b[0margs\u001b[0m\u001b[0;34m,\u001b[0m \u001b[0;34m**\u001b[0m\u001b[0mkwargs\u001b[0m\u001b[0;34m)\u001b[0m\u001b[0;34m:\u001b[0m\u001b[0;34m\u001b[0m\u001b[0;34m\u001b[0m\u001b[0m\n\u001b[0;32m---> 50\u001b[0;31m         \u001b[0;32mreturn\u001b[0m \u001b[0mself\u001b[0m\u001b[0;34m.\u001b[0m\u001b[0m_cwusb\u001b[0m\u001b[0;34m.\u001b[0m\u001b[0mcon\u001b[0m\u001b[0;34m(\u001b[0m\u001b[0;34m*\u001b[0m\u001b[0margs\u001b[0m\u001b[0;34m,\u001b[0m \u001b[0;34m**\u001b[0m\u001b[0mkwargs\u001b[0m\u001b[0;34m)\u001b[0m\u001b[0;34m\u001b[0m\u001b[0;34m\u001b[0m\u001b[0m\n\u001b[0m\u001b[1;32m     51\u001b[0m \u001b[0;34m\u001b[0m\u001b[0m\n",
      "\u001b[0;32m~/chipwhisperer/software/chipwhisperer/hardware/naeusb/naeusb.py\u001b[0m in \u001b[0;36mcon\u001b[0;34m(self, idProduct, connect_to_first, serial_number)\u001b[0m\n\u001b[1;32m    588\u001b[0m \u001b[0;34m\u001b[0m\u001b[0m\n\u001b[0;32m--> 589\u001b[0;31m         \u001b[0mself\u001b[0m\u001b[0;34m.\u001b[0m\u001b[0musbseralizer\u001b[0m\u001b[0;34m.\u001b[0m\u001b[0mopen\u001b[0m\u001b[0;34m(\u001b[0m\u001b[0mdev\u001b[0m\u001b[0;34m[\u001b[0m\u001b[0;34m'sn'\u001b[0m\u001b[0;34m]\u001b[0m\u001b[0;34m)\u001b[0m\u001b[0;34m\u001b[0m\u001b[0;34m\u001b[0m\u001b[0m\n\u001b[0m\u001b[1;32m    590\u001b[0m         \u001b[0mfoundId\u001b[0m \u001b[0;34m=\u001b[0m \u001b[0mdev\u001b[0m\u001b[0;34m[\u001b[0m\u001b[0;34m'pid'\u001b[0m\u001b[0;34m]\u001b[0m\u001b[0;34m\u001b[0m\u001b[0;34m\u001b[0m\u001b[0m\n",
      "\u001b[0;32m~/chipwhisperer/software/chipwhisperer/hardware/naeusb/naeusb.py\u001b[0m in \u001b[0;36mopen\u001b[0;34m(self, serial_number)\u001b[0m\n\u001b[1;32m    157\u001b[0m         \u001b[0mcmdpacket\u001b[0m \u001b[0;34m=\u001b[0m \u001b[0mself\u001b[0m\u001b[0;34m.\u001b[0m\u001b[0mmake_cmd\u001b[0m\u001b[0;34m(\u001b[0m\u001b[0mself\u001b[0m\u001b[0;34m.\u001b[0m\u001b[0mOPEN\u001b[0m\u001b[0;34m,\u001b[0m \u001b[0mserial_number\u001b[0m\u001b[0;34m)\u001b[0m\u001b[0;34m\u001b[0m\u001b[0;34m\u001b[0m\u001b[0m\n\u001b[0;32m--> 158\u001b[0;31m         \u001b[0;32mreturn\u001b[0m \u001b[0mself\u001b[0m\u001b[0;34m.\u001b[0m\u001b[0mprocess_rx\u001b[0m\u001b[0;34m(\u001b[0m\u001b[0mself\u001b[0m\u001b[0;34m.\u001b[0m\u001b[0mtxrx\u001b[0m\u001b[0;34m(\u001b[0m\u001b[0mtx\u001b[0m\u001b[0;34m=\u001b[0m\u001b[0mcmdpacket\u001b[0m\u001b[0;34m)\u001b[0m\u001b[0;34m)\u001b[0m\u001b[0;34m\u001b[0m\u001b[0;34m\u001b[0m\u001b[0m\n\u001b[0m\u001b[1;32m    159\u001b[0m \u001b[0;34m\u001b[0m\u001b[0m\n",
      "\u001b[0;32m~/chipwhisperer/software/chipwhisperer/hardware/naeusb/naeusb.py\u001b[0m in \u001b[0;36mprocess_rx\u001b[0;34m(self, inp)\u001b[0m\n\u001b[1;32m    150\u001b[0m         \u001b[0;32mif\u001b[0m \u001b[0mresp\u001b[0m \u001b[0;34m==\u001b[0m \u001b[0mself\u001b[0m\u001b[0;34m.\u001b[0m\u001b[0mERROR\u001b[0m\u001b[0;34m:\u001b[0m\u001b[0;34m\u001b[0m\u001b[0;34m\u001b[0m\u001b[0m\n\u001b[0;32m--> 151\u001b[0;31m             \u001b[0;32mraise\u001b[0m \u001b[0mpayload\u001b[0m\u001b[0;34m\u001b[0m\u001b[0;34m\u001b[0m\u001b[0m\n\u001b[0m\u001b[1;32m    152\u001b[0m \u001b[0;34m\u001b[0m\u001b[0m\n",
      "\u001b[0;31mUSBError\u001b[0m: [Errno None] 16",
      "\nDuring handling of the above exception, another exception occurred:\n",
      "\u001b[0;31mWarning\u001b[0m                                   Traceback (most recent call last)",
      "\u001b[0;32m<ipython-input-1-536a38a260a6>\u001b[0m in \u001b[0;36m<module>\u001b[0;34m\u001b[0m\n\u001b[1;32m      4\u001b[0m         \u001b[0mscope\u001b[0m\u001b[0;34m.\u001b[0m\u001b[0mcon\u001b[0m\u001b[0;34m(\u001b[0m\u001b[0;34m)\u001b[0m\u001b[0;34m\u001b[0m\u001b[0;34m\u001b[0m\u001b[0m\n\u001b[1;32m      5\u001b[0m \u001b[0;32mexcept\u001b[0m \u001b[0mNameError\u001b[0m\u001b[0;34m:\u001b[0m\u001b[0;34m\u001b[0m\u001b[0;34m\u001b[0m\u001b[0m\n\u001b[0;32m----> 6\u001b[0;31m     \u001b[0mscope\u001b[0m \u001b[0;34m=\u001b[0m \u001b[0mcw\u001b[0m\u001b[0;34m.\u001b[0m\u001b[0mscope\u001b[0m\u001b[0;34m(\u001b[0m\u001b[0;34m)\u001b[0m\u001b[0;34m\u001b[0m\u001b[0;34m\u001b[0m\u001b[0m\n\u001b[0m\u001b[1;32m      7\u001b[0m \u001b[0;34m\u001b[0m\u001b[0m\n\u001b[1;32m      8\u001b[0m \u001b[0;32mtry\u001b[0m\u001b[0;34m:\u001b[0m\u001b[0;34m\u001b[0m\u001b[0;34m\u001b[0m\u001b[0m\n",
      "\u001b[0;32m~/chipwhisperer/software/chipwhisperer/__init__.py\u001b[0m in \u001b[0;36mscope\u001b[0;34m(scope_type, sn)\u001b[0m\n\u001b[1;32m    209\u001b[0m         \u001b[0mscope_type\u001b[0m \u001b[0;34m=\u001b[0m \u001b[0mget_cw_type\u001b[0m\u001b[0;34m(\u001b[0m\u001b[0msn\u001b[0m\u001b[0;34m)\u001b[0m\u001b[0;34m\u001b[0m\u001b[0;34m\u001b[0m\u001b[0m\n\u001b[1;32m    210\u001b[0m     \u001b[0mscope\u001b[0m \u001b[0;34m=\u001b[0m \u001b[0mscope_type\u001b[0m\u001b[0;34m(\u001b[0m\u001b[0;34m)\u001b[0m\u001b[0;34m\u001b[0m\u001b[0;34m\u001b[0m\u001b[0m\n\u001b[0;32m--> 211\u001b[0;31m     \u001b[0mscope\u001b[0m\u001b[0;34m.\u001b[0m\u001b[0mcon\u001b[0m\u001b[0;34m(\u001b[0m\u001b[0msn\u001b[0m\u001b[0;34m)\u001b[0m\u001b[0;34m\u001b[0m\u001b[0;34m\u001b[0m\u001b[0m\n\u001b[0m\u001b[1;32m    212\u001b[0m     \u001b[0;32mreturn\u001b[0m \u001b[0mscope\u001b[0m\u001b[0;34m\u001b[0m\u001b[0;34m\u001b[0m\u001b[0m\n\u001b[1;32m    213\u001b[0m \u001b[0;34m\u001b[0m\u001b[0m\n",
      "\u001b[0;32m~/chipwhisperer/software/chipwhisperer/capture/scopes/base.py\u001b[0m in \u001b[0;36mcon\u001b[0;34m(self, sn)\u001b[0m\n\u001b[1;32m     56\u001b[0m \u001b[0;34m\u001b[0m\u001b[0m\n\u001b[1;32m     57\u001b[0m     \u001b[0;32mdef\u001b[0m \u001b[0mcon\u001b[0m\u001b[0;34m(\u001b[0m\u001b[0mself\u001b[0m\u001b[0;34m,\u001b[0m \u001b[0msn\u001b[0m\u001b[0;34m=\u001b[0m\u001b[0;32mNone\u001b[0m\u001b[0;34m)\u001b[0m\u001b[0;34m:\u001b[0m\u001b[0;34m\u001b[0m\u001b[0;34m\u001b[0m\u001b[0m\n\u001b[0;32m---> 58\u001b[0;31m         \u001b[0;32mif\u001b[0m \u001b[0mself\u001b[0m\u001b[0;34m.\u001b[0m\u001b[0m_con\u001b[0m\u001b[0;34m(\u001b[0m\u001b[0msn\u001b[0m\u001b[0;34m)\u001b[0m\u001b[0;34m:\u001b[0m\u001b[0;34m\u001b[0m\u001b[0;34m\u001b[0m\u001b[0m\n\u001b[0m\u001b[1;32m     59\u001b[0m             \u001b[0mself\u001b[0m\u001b[0;34m.\u001b[0m\u001b[0mconnectStatus\u001b[0m \u001b[0;34m=\u001b[0m \u001b[0;32mTrue\u001b[0m\u001b[0;34m\u001b[0m\u001b[0;34m\u001b[0m\u001b[0m\n\u001b[1;32m     60\u001b[0m \u001b[0;34m\u001b[0m\u001b[0m\n",
      "\u001b[0;32m~/chipwhisperer/software/chipwhisperer/capture/scopes/OpenADC.py\u001b[0m in \u001b[0;36m_con\u001b[0;34m(self, sn)\u001b[0m\n\u001b[1;32m    201\u001b[0m     \u001b[0;32mdef\u001b[0m \u001b[0m_con\u001b[0m\u001b[0;34m(\u001b[0m\u001b[0mself\u001b[0m\u001b[0;34m,\u001b[0m \u001b[0msn\u001b[0m\u001b[0;34m=\u001b[0m\u001b[0;32mNone\u001b[0m\u001b[0;34m)\u001b[0m\u001b[0;34m:\u001b[0m\u001b[0;34m\u001b[0m\u001b[0;34m\u001b[0m\u001b[0m\n\u001b[1;32m    202\u001b[0m         \u001b[0;32mif\u001b[0m \u001b[0mself\u001b[0m\u001b[0;34m.\u001b[0m\u001b[0mscopetype\u001b[0m \u001b[0;32mis\u001b[0m \u001b[0;32mnot\u001b[0m \u001b[0;32mNone\u001b[0m\u001b[0;34m:\u001b[0m\u001b[0;34m\u001b[0m\u001b[0;34m\u001b[0m\u001b[0m\n\u001b[0;32m--> 203\u001b[0;31m             \u001b[0mself\u001b[0m\u001b[0;34m.\u001b[0m\u001b[0mscopetype\u001b[0m\u001b[0;34m.\u001b[0m\u001b[0mcon\u001b[0m\u001b[0;34m(\u001b[0m\u001b[0msn\u001b[0m\u001b[0;34m)\u001b[0m\u001b[0;34m\u001b[0m\u001b[0;34m\u001b[0m\u001b[0m\n\u001b[0m\u001b[1;32m    204\u001b[0m \u001b[0;34m\u001b[0m\u001b[0m\n\u001b[1;32m    205\u001b[0m             \u001b[0mself\u001b[0m\u001b[0;34m.\u001b[0m\u001b[0mqtadc\u001b[0m\u001b[0;34m.\u001b[0m\u001b[0msc\u001b[0m\u001b[0;34m.\u001b[0m\u001b[0musbcon\u001b[0m \u001b[0;34m=\u001b[0m \u001b[0mself\u001b[0m\u001b[0;34m.\u001b[0m\u001b[0mscopetype\u001b[0m\u001b[0;34m.\u001b[0m\u001b[0mser\u001b[0m\u001b[0;34m.\u001b[0m\u001b[0m_usbdev\u001b[0m\u001b[0;34m\u001b[0m\u001b[0;34m\u001b[0m\u001b[0m\n",
      "\u001b[0;32m~/chipwhisperer/software/chipwhisperer/capture/scopes/openadc_interface/naeusbchip.py\u001b[0m in \u001b[0;36mcon\u001b[0;34m(self, sn)\u001b[0m\n\u001b[1;32m     87\u001b[0m                 \u001b[0mfound_id\u001b[0m \u001b[0;34m=\u001b[0m \u001b[0mself\u001b[0m\u001b[0;34m.\u001b[0m\u001b[0mdev\u001b[0m\u001b[0;34m.\u001b[0m\u001b[0mcon\u001b[0m\u001b[0;34m(\u001b[0m\u001b[0midProduct\u001b[0m\u001b[0;34m=\u001b[0m\u001b[0mnae_products\u001b[0m\u001b[0;34m,\u001b[0m \u001b[0mserial_number\u001b[0m\u001b[0;34m=\u001b[0m\u001b[0msn\u001b[0m\u001b[0;34m)\u001b[0m\u001b[0;34m\u001b[0m\u001b[0;34m\u001b[0m\u001b[0m\n\u001b[1;32m     88\u001b[0m             \u001b[0;32mexcept\u001b[0m \u001b[0;34m(\u001b[0m\u001b[0mIOError\u001b[0m\u001b[0;34m,\u001b[0m \u001b[0mValueError\u001b[0m\u001b[0;34m)\u001b[0m\u001b[0;34m:\u001b[0m\u001b[0;34m\u001b[0m\u001b[0;34m\u001b[0m\u001b[0m\n\u001b[0;32m---> 89\u001b[0;31m                 \u001b[0;32mraise\u001b[0m \u001b[0mWarning\u001b[0m\u001b[0;34m(\u001b[0m\u001b[0;34m'Could not connect to \"%s\". It may have been disconnected, is in an error state, or is being used by another tool.'\u001b[0m \u001b[0;34m%\u001b[0m \u001b[0mself\u001b[0m\u001b[0;34m.\u001b[0m\u001b[0mgetName\u001b[0m\u001b[0;34m(\u001b[0m\u001b[0;34m)\u001b[0m\u001b[0;34m)\u001b[0m\u001b[0;34m\u001b[0m\u001b[0;34m\u001b[0m\u001b[0m\n\u001b[0m\u001b[1;32m     90\u001b[0m \u001b[0;34m\u001b[0m\u001b[0m\n\u001b[1;32m     91\u001b[0m             \u001b[0;32mif\u001b[0m \u001b[0mfound_id\u001b[0m \u001b[0;34m!=\u001b[0m \u001b[0mself\u001b[0m\u001b[0;34m.\u001b[0m\u001b[0mlast_id\u001b[0m\u001b[0;34m:\u001b[0m\u001b[0;34m\u001b[0m\u001b[0;34m\u001b[0m\u001b[0m\n",
      "\u001b[0;31mWarning\u001b[0m: Could not connect to \"NewAE USB (CWLite/CW1200)\". It may have been disconnected, is in an error state, or is being used by another tool."
     ]
    }
   ],
   "source": [
    "import chipwhisperer as cw\n",
    "try:\n",
    "    if not scope.connectStatus:\n",
    "        scope.con()\n",
    "except NameError:\n",
    "    scope = cw.scope()\n",
    "   \n",
    "try:\n",
    "    target = cw.target(scope)\n",
    "except IOError:\n",
    "    print(\"INFO: Caught exception on reconnecting to target - attempting to reconnect to scope first.\")\n",
    "    print(\"INFO: This is a work-around when USB has died without Python knowing. Ignore errors above this line.\")\n",
    "    scope = cw.scope()\n",
    "    target = cw.target(scope)\n",
    "\n",
    "print(\"INFO: Found ChipWhisperer😍\\n\")"
   ]
  },
  {
   "cell_type": "code",
   "execution_count": null,
   "metadata": {},
   "outputs": [],
   "source": [
    "if \"STM\" in PLATFORM or PLATFORM == \"CWLITEARM\" or PLATFORM == \"CWNANO\":\n",
    "    prog = cw.programmers.STM32FProgrammer\n",
    "elif PLATFORM == \"CW303\" or PLATFORM == \"CWLITEXMEGA\":\n",
    "    prog = cw.programmers.XMEGAProgrammer\n",
    "else:\n",
    "    prog = None"
   ]
  },
  {
   "cell_type": "code",
   "execution_count": 1,
   "metadata": {},
   "outputs": [
    {
     "ename": "NameError",
     "evalue": "name 'scope' is not defined",
     "output_type": "error",
     "traceback": [
      "\u001b[0;31m---------------------------------------------------------------------------\u001b[0m",
      "\u001b[0;31mNameError\u001b[0m                                 Traceback (most recent call last)",
      "\u001b[0;32m<ipython-input-1-14ccc6074e82>\u001b[0m in \u001b[0;36m<module>\u001b[0;34m\u001b[0m\n\u001b[1;32m      1\u001b[0m \u001b[0;32mimport\u001b[0m \u001b[0mtime\u001b[0m\u001b[0;34m\u001b[0m\u001b[0;34m\u001b[0m\u001b[0m\n\u001b[1;32m      2\u001b[0m \u001b[0mtime\u001b[0m\u001b[0;34m.\u001b[0m\u001b[0msleep\u001b[0m\u001b[0;34m(\u001b[0m\u001b[0;36m0.05\u001b[0m\u001b[0;34m)\u001b[0m\u001b[0;34m\u001b[0m\u001b[0;34m\u001b[0m\u001b[0m\n\u001b[0;32m----> 3\u001b[0;31m \u001b[0mscope\u001b[0m\u001b[0;34m.\u001b[0m\u001b[0mdefault_setup\u001b[0m\u001b[0;34m(\u001b[0m\u001b[0;34m)\u001b[0m\u001b[0;34m\u001b[0m\u001b[0;34m\u001b[0m\u001b[0m\n\u001b[0m\u001b[1;32m      4\u001b[0m \u001b[0;32mdef\u001b[0m \u001b[0mreset_target\u001b[0m\u001b[0;34m(\u001b[0m\u001b[0mscope\u001b[0m\u001b[0;34m)\u001b[0m\u001b[0;34m:\u001b[0m\u001b[0;34m\u001b[0m\u001b[0;34m\u001b[0m\u001b[0m\n\u001b[1;32m      5\u001b[0m     \u001b[0;32mif\u001b[0m \u001b[0mPLATFORM\u001b[0m \u001b[0;34m==\u001b[0m \u001b[0;34m\"CW303\"\u001b[0m \u001b[0;32mor\u001b[0m \u001b[0mPLATFORM\u001b[0m \u001b[0;34m==\u001b[0m \u001b[0;34m\"CWLITEXMEGA\"\u001b[0m\u001b[0;34m:\u001b[0m\u001b[0;34m\u001b[0m\u001b[0;34m\u001b[0m\u001b[0m\n",
      "\u001b[0;31mNameError\u001b[0m: name 'scope' is not defined"
     ]
    }
   ],
   "source": [
    "import time\n",
    "time.sleep(0.05)\n",
    "scope.default_setup()\n",
    "def reset_target(scope):\n",
    "    if PLATFORM == \"CW303\" or PLATFORM == \"CWLITEXMEGA\":\n",
    "        scope.io.pdic = 'low'\n",
    "        time.sleep(0.1)\n",
    "        scope.io.pdic = 'high_z' #XMEGA doesn't like pdic driven high\n",
    "        time.sleep(0.1) #xmega needs more startup time\n",
    "        #Flush garbage too\n",
    "        target.flush()\n",
    "    # Reset pin in OpenTitan layout has to be connected to pdic pin of ChipWhisperer \n",
    "    if PLATFORM == \"OpenTitan\":\n",
    "        scope.io.pdic = 'low'\n",
    "        time.sleep(0.05)\n",
    "        scope.io.pdic = 'high'\n",
    "        time.sleep(0.05)\n",
    "        #Flush garbage too\n",
    "        target.flush()\n",
    "    else:  \n",
    "        scope.io.nrst = 'low'\n",
    "        time.sleep(0.05)\n",
    "        scope.io.nrst = 'high'\n",
    "        time.sleep(0.05)\n",
    "        #Flush garbage too\n",
    "        target.flush()"
   ]
  },
  {
   "cell_type": "code",
   "execution_count": 28,
   "metadata": {
    "code_folding": []
   },
   "outputs": [],
   "source": [
    "# Regular expression\n",
    "import re\n",
    "# Serial communication\n",
    "import serial\n",
    "\n",
    "CRED = '\\033[91m'\n",
    "CEND = '\\033[0m'\n",
    "CSTYLE = '\\x1b[5;37;41m'\n",
    "CBLACK  = '\\33[30m'\n",
    "CWHITE  = '\\33[37m'\n",
    "CORG = '\\x1b[6;39;43m'\n",
    "\n",
    "def connectSerial(target, baud = 230400):\n",
    "    target_name = '/dev/ttyUSB'\n",
    "    p = subprocess.Popen(\"ls -l /dev/ttyUSB*\", shell=True, stdout=subprocess.PIPE)\n",
    "    result = str(p.communicate()[0])\n",
    "    s1 = \"\"\n",
    "    s2 = \"\"\n",
    "\n",
    "    try:\n",
    "        m = re.search('/dev/ttyUSB(.*)', result)\n",
    "        if m:\n",
    "            found = m.group(1)\n",
    "            target_name += found\n",
    "            tar_baud = baud\n",
    "\n",
    "            try:\n",
    "                targets = target_name.split('\\\\n')\n",
    "                device = targets[0]\n",
    "                dev_id = device.split('/dev/ttyUSB')[1]\n",
    "                #print(\"dev_id: \", dev_id)\n",
    "                p = subprocess.Popen(\"udevadm info -a -n /dev/ttyUSB\" + dev_id + \"| grep -e \\\"idProduct\\\" -e \\\"product\\\" | head -n2\", shell=True, stdout=subprocess.PIPE)\n",
    "                result1 = str(p.communicate()[0])\n",
    "\n",
    "                #s1 = ''.join(x for x in idProduct if x.isdigit()) # get idProduct from usb device\n",
    "                #print(\"device: %s, idProduct: %s\" % (device, s1))\n",
    "                #print(\"Res1: \", result1)\n",
    "                i = result1.find('{product}==')\n",
    "                if i != -1:\n",
    "                    t = result1.split('{product}==')\n",
    "                    product1 = t[1] # result1[i+11:]\n",
    "                    #print(\"product1: \", product1)\n",
    "                    i = result1.find('{idProduct}==')\n",
    "                    s1 = result1[i+14:i+18]\n",
    "                    #print(\"device: %s, product: %s, idProduct: %s\" % (device, product, s1))\n",
    "                \n",
    "                m = re.search('/dev/ttyUSB(.*)', targets[1])\n",
    "                if m:\n",
    "                    dev_id = m.group(1)\n",
    "                    device2 = '/dev/ttyUSB' + dev_id\n",
    "                    p = subprocess.Popen(\"udevadm info -a -n /dev/ttyUSB\" + dev_id + \"| grep -e \\\"idProduct\\\" -e \\\"product\\\" | head -n2\", shell=True, stdout=subprocess.PIPE)\n",
    "                    result2 = str(p.communicate()[0])\n",
    "                    #print(result2)\n",
    "                    d = result2.find('{product}==')\n",
    "                    if d != -1:\n",
    "                        t2 = result2.split('{product}==')\n",
    "                        product2 = t2[1] # result2[i+11:]\n",
    "                        #print(\"product2: \", product2)\n",
    "                        d = result2.find('{idProduct}==')\n",
    "                        s2 = result2[d+14:d+18]\n",
    "                        #print(\"device2: %s, idProduct: %s\" % (device2, 2))\n",
    "                    #product2 = result2.split('{product}==')\n",
    "                    #idProduct2 = result2.split('{idProduct}==')\n",
    "                    #s2 = ''.join(x for x in idProduct2 if x.isdigit()) # get idProduct from usb device\n",
    "                    #print(\"device2: %s, idProduct: %s\" % (device2, s2))\n",
    "                    \n",
    "            except:\n",
    "                pass\n",
    "            \n",
    "            target_devname = \"\"\n",
    "            if (s1) == \"6010\": # this has to fit to Arty S7\n",
    "                target_devname = device\n",
    "                prod = product1\n",
    "            elif s2 == \"6010\":\n",
    "                target_devname = device2\n",
    "                prod = product2\n",
    "\n",
    "            \n",
    "            if target_devname:\n",
    "                try:\n",
    "                    target.ser = serial.Serial(target_devname, tar_baud, timeout=250)\n",
    "                except AttributeError:\n",
    "                    print(CSTYLE + CBLACK + \"\"\"Could not connect to \"\"\" + device + CEND)\n",
    "    except AttributeError:\n",
    "        print(CSTYLE + CBLACK + \"\"\"Did not found a serial device.\n",
    "        Check connection & the actual target_name on your own via \"ls -l /dev/ttyUSB*\" \"\"\" + CEND)\n",
    "        # Alternatively, if this fails check it actual target_name on your own via ls -l /dev/ttyUSB* \n",
    "\n",
    "    if target.ser.port == target_devname:\n",
    "        print(\"INFO: Opened port %s (%s) with speed %d\\n\" % (target.ser.port, prod, target.ser.baudrate))"
   ]
  },
  {
   "cell_type": "code",
   "execution_count": 1,
   "metadata": {},
   "outputs": [],
   "source": [
    "def save_picture(folder, project, filename, figure):\n",
    "    cnt = 1\n",
    "    \n",
    "    if project is None:\n",
    "        print(\"Please define a project name for saving\")\n",
    "    else:\n",
    "        if folder is None:\n",
    "            folder = \"/home/ms/chipwhisperer/traces/\"\n",
    "        else:            \n",
    "            file =  folder + project + '/' + filename + '_0' + str(cnt) +'.png'\n",
    "            my_file = Path(file)\n",
    "            \n",
    "            while my_file.is_file(): #  os.path.exists(file_name)\n",
    "                # file exists\n",
    "                cnt+=1\n",
    "                file =  folder + project + '/' + filename + '_0' + str(cnt) +'.png'\n",
    "                my_file = Path(file)\n",
    "                \n",
    "            print(\"Saved trace to: %s\\n\" % file)\n",
    "            figure.savefig(file, quality=95, bbox_inches='tight')"
   ]
  },
  {
   "cell_type": "code",
   "execution_count": null,
   "metadata": {},
   "outputs": [],
   "source": []
  }
 ],
 "metadata": {
  "kernelspec": {
   "display_name": "Python 3",
   "language": "python",
   "name": "python3"
  },
  "language_info": {
   "codemirror_mode": {
    "name": "ipython",
    "version": 3
   },
   "file_extension": ".py",
   "mimetype": "text/x-python",
   "name": "python",
   "nbconvert_exporter": "python",
   "pygments_lexer": "ipython3",
   "version": "3.7.6"
  },
  "varInspector": {
   "cols": {
    "lenName": 16,
    "lenType": 16,
    "lenVar": 40
   },
   "kernels_config": {
    "python": {
     "delete_cmd_postfix": "",
     "delete_cmd_prefix": "del ",
     "library": "var_list.py",
     "varRefreshCmd": "print(var_dic_list())"
    },
    "r": {
     "delete_cmd_postfix": ") ",
     "delete_cmd_prefix": "rm(",
     "library": "var_list.r",
     "varRefreshCmd": "cat(var_dic_list()) "
    }
   },
   "types_to_exclude": [
    "module",
    "function",
    "builtin_function_or_method",
    "instance",
    "_Feature"
   ],
   "window_display": false
  }
 },
 "nbformat": 4,
 "nbformat_minor": 4
}
